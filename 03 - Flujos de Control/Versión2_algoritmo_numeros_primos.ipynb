{
 "cells": [
  {
   "cell_type": "code",
   "execution_count": 32,
   "metadata": {},
   "outputs": [
    {
     "name": "stdout",
     "output_type": "stream",
     "text": [
      "con  99 ciclos:\n",
      "Los números primos menores o iguales a 100 son:  2, 3, 5, 7, 11, 13, 17, 19, 23, 29, 31, 37, 41, 43, 47, 53, 59, 61, 67, 71, 73, 79, 83, 89, 97\n"
     ]
    }
   ],
   "source": [
    "def numeros_primos_o(x):\n",
    "    ciclos=0\n",
    "    x=int(x)\n",
    "    if x<2:\n",
    "        primos=['No hay números primos']\n",
    "        ciclos+=1\n",
    "    elif x>2:\n",
    "        primos=list(range(3,x+1,2))\n",
    "        primos.insert(0,2)\n",
    "        ciclos+=1\n",
    "    else:\n",
    "        primos=[2]\n",
    "        ciclos+=1\n",
    "    \n",
    "    if len(primos)>4:\n",
    "        import math\n",
    "        i=4\n",
    "        j=1\n",
    "        while i<len(primos):\n",
    "            y=int(math.sqrt(primos[i]))\n",
    "            if primos[i]%primos[j]==0:\n",
    "                primos.remove(primos[i])\n",
    "                j=1\n",
    "                ciclos+=1\n",
    "            elif primos[j]>=y:\n",
    "                j=1\n",
    "                i+=1\n",
    "                ciclos+=1\n",
    "            else:\n",
    "                j+=1\n",
    "                ciclos+=1\n",
    "                continue\n",
    "    print('con ', ciclos, 'ciclos:')\n",
    "    return(primos, ciclos)\n",
    "\n",
    "n=100\n",
    "print('Los números primos menores o iguales a', n, 'son: ', str(numeros_primos_o(n)[0])[1:-1])"
   ]
  },
  {
   "cell_type": "code",
   "execution_count": 33,
   "metadata": {},
   "outputs": [
    {
     "name": "stdout",
     "output_type": "stream",
     "text": [
      "Los números primos menores o iguales a 100 son:  2, 3, 5, 7, 11, 13, 17, 19, 23, 29, 31, 37, 41, 43, 47, 53, 59, 61, 67, 71, 73, 79, 83, 89, 97\n"
     ]
    }
   ],
   "source": [
    "def numeros_primos(x):\n",
    "    x=int(x)\n",
    "    if x<2:\n",
    "        primos=['No hay números primos']\n",
    "    elif x>2:\n",
    "        primos=list(range(3,x+1,2))\n",
    "        primos.insert(0,2)\n",
    "    else:\n",
    "        primos=[2]\n",
    "    \n",
    "    if len(primos)>4:\n",
    "        import math\n",
    "        i=4\n",
    "        j=1\n",
    "        while i<len(primos):\n",
    "            y=int(math.sqrt(primos[i]))\n",
    "            if primos[i]%primos[j]==0:\n",
    "                primos.remove(primos[i])\n",
    "                j=1\n",
    "            elif primos[j]>=y:\n",
    "                j=1\n",
    "                i+=1\n",
    "            else:\n",
    "                j+=1\n",
    "    return(primos)\n",
    "\n",
    "n=100\n",
    "print('Los números primos menores o iguales a', n, 'son: ', str(numeros_primos(n))[1:-1])"
   ]
  },
  {
   "cell_type": "code",
   "execution_count": 34,
   "metadata": {},
   "outputs": [
    {
     "name": "stdout",
     "output_type": "stream",
     "text": [
      "con  128 ciclos:\n",
      "Los números primos menores o iguales a 100 son:  2, 3, 5, 7, 9, 11, 13, 17, 19, 23, 29, 31, 37, 41, 43, 47, 53, 59, 61, 67, 71, 73, 79, 83, 89, 97\n"
     ]
    }
   ],
   "source": [
    "def numeros_primos(x):\n",
    "    x=int(x)\n",
    "    ciclos=0\n",
    "    if x<2:\n",
    "        primos=['No hay números primos']\n",
    "        ciclos+=1\n",
    "    elif x==2:\n",
    "        primos=[2]\n",
    "        ciclos+=1\n",
    "    else:\n",
    "        primos=list(range(3,x+1,2))\n",
    "        if len(primos)>3:\n",
    "            import math\n",
    "            y=int(math.sqrt(x))\n",
    "            i=3\n",
    "            while i<=y:\n",
    "                for i in primos:\n",
    "                        j=i+3\n",
    "                        while j<len(primos):\n",
    "                            if primos[j]%i==0:\n",
    "                                primos.remove(primos[j])\n",
    "                                ciclos+=1\n",
    "                            else:\n",
    "                                j+=1\n",
    "                                ciclos+=1\n",
    "                                continue\n",
    "                \n",
    "        primos.insert(0,2)\n",
    "    print('con ', ciclos, 'ciclos:')\n",
    "    return(primos)\n",
    "\n",
    "n=100\n",
    "print('Los números primos menores o iguales a', n, 'son: ', str(numeros_primos(n))[1:-1])"
   ]
  },
  {
   "cell_type": "code",
   "execution_count": null,
   "metadata": {},
   "outputs": [],
   "source": [
    "primos=list(range(1,10))\n",
    "y=5\n",
    "divisores=primos[0,y]\n"
   ]
  },
  {
   "cell_type": "code",
   "execution_count": 20,
   "metadata": {},
   "outputs": [
    {
     "name": "stdout",
     "output_type": "stream",
     "text": [
      "1\n"
     ]
    }
   ],
   "source": [
    "def factorial(x):\n",
    "    if type(x)!=int:\n",
    "        y='El número debe ser mayor o igual a 0'\n",
    "\n",
    "\n",
    "    if x==0:\n",
    "        y=1\n",
    "    elif x>0:\n",
    "        y=1\n",
    "        while(x>0):\n",
    "            y=y*x\n",
    "            x-=1\n",
    "    else:\n",
    "        y='El número debe ser mayor o igual a 0'\n",
    "        return(y)\n",
    "\n",
    "print(factorial(-1))"
   ]
  }
 ],
 "metadata": {
  "interpreter": {
   "hash": "50ddef841eec6287061b05d1ee35241a75b3832ae84d6888477df103f13cab72"
  },
  "kernelspec": {
   "display_name": "Python 3.10.4 64-bit",
   "language": "python",
   "name": "python3"
  },
  "language_info": {
   "codemirror_mode": {
    "name": "ipython",
    "version": 3
   },
   "file_extension": ".py",
   "mimetype": "text/x-python",
   "name": "python",
   "nbconvert_exporter": "python",
   "pygments_lexer": "ipython3",
   "version": "3.10.4"
  },
  "orig_nbformat": 4
 },
 "nbformat": 4,
 "nbformat_minor": 2
}
