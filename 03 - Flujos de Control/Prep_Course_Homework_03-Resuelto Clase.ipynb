{
 "cells": [
  {
   "cell_type": "markdown",
   "metadata": {},
   "source": [
    "## Flujos de Control"
   ]
  },
  {
   "cell_type": "markdown",
   "metadata": {},
   "source": [
    "1) Crear una variable que contenga un elemento del conjunto de números enteros y luego imprimir por pantalla si es mayor o menor a cero"
   ]
  },
  {
   "cell_type": "code",
   "execution_count": 1,
   "metadata": {},
   "outputs": [
    {
     "name": "stdout",
     "output_type": "stream",
     "text": [
      "La varaible es mayor a cero\n"
     ]
    }
   ],
   "source": [
    "a = 10\n",
    "if (a < 0):\n",
    "    print('La variable es menor a cero')\n",
    "elif (a > 0): \n",
    "    print('La varaible es mayor a cero')\n",
    "else:\n",
    "    print('La variable es igual a cero')"
   ]
  },
  {
   "cell_type": "markdown",
   "metadata": {},
   "source": [
    "2) Crear dos variables y un condicional que informe si son del mismo tipo de dato"
   ]
  },
  {
   "cell_type": "code",
   "execution_count": 9,
   "metadata": {},
   "outputs": [
    {
     "name": "stdout",
     "output_type": "stream",
     "text": [
      "Las variables son de tipos de dato diferentes\n"
     ]
    }
   ],
   "source": [
    "a = 'esto es una frase'\n",
    "b = 3\n",
    "if (type(a) == bool):\n",
    "    print('Las variables son del mismo tipo de dato')\n",
    "    print(f'Las variables {a} y {b} son del mismo tipo de dato')\n",
    "    print('Las variables' , str(a), 'y', str(b), 'son del mismo tipo de dato')\n",
    "    print('Las variables ' + str(a) + ' y ' + str(b) + ' son del mismo tipo de dato')\n",
    "else:\n",
    "    print('Las variables son de tipos de dato diferentes')"
   ]
  },
  {
   "cell_type": "code",
   "execution_count": 16,
   "metadata": {},
   "outputs": [
    {
     "name": "stdout",
     "output_type": "stream",
     "text": [
      "Las variables 3.2 y 2 son del mismo tipo de dato\n"
     ]
    }
   ],
   "source": [
    "a = 3.2\n",
    "b = 2\n",
    "print(f'Las variables {a} y {b} son del mismo tipo de dato')\n"
   ]
  },
  {
   "cell_type": "code",
   "execution_count": 17,
   "metadata": {},
   "outputs": [
    {
     "name": "stdout",
     "output_type": "stream",
     "text": [
      "Las variables 3.2 y 2 son del mismo tipo de dato\n"
     ]
    }
   ],
   "source": [
    "print('Las variables', a, 'y', str(b), 'son del mismo tipo de dato')\n"
   ]
  },
  {
   "cell_type": "code",
   "execution_count": 21,
   "metadata": {},
   "outputs": [
    {
     "name": "stdout",
     "output_type": "stream",
     "text": [
      "Las variables3.2 y 2 son del mismo tipo de dato\n"
     ]
    }
   ],
   "source": [
    "print('Las variables' + str(a) + ' y ' + str(b) + ' son del mismo tipo de dato')"
   ]
  },
  {
   "cell_type": "markdown",
   "metadata": {},
   "source": [
    "3) Para los valores enteros del 1 al 20, imprimir por pantalla si es par o impar"
   ]
  },
  {
   "cell_type": "code",
   "execution_count": 6,
   "metadata": {},
   "outputs": [
    {
     "data": {
      "text/plain": [
       "0"
      ]
     },
     "execution_count": 6,
     "metadata": {},
     "output_type": "execute_result"
    }
   ],
   "source": [
    "4 % 2"
   ]
  },
  {
   "cell_type": "code",
   "execution_count": 8,
   "metadata": {},
   "outputs": [
    {
     "name": "stdout",
     "output_type": "stream",
     "text": [
      "El numero 1 es impar\n",
      "El numero 2 es par\n",
      "El numero 3 es impar\n",
      "El numero 4 es par\n",
      "El numero 5 es impar\n",
      "El numero 6 es par\n",
      "El numero 7 es impar\n",
      "El numero 8 es par\n",
      "El numero 9 es impar\n",
      "El numero 10 es par\n",
      "El numero 11 es impar\n",
      "El numero 12 es par\n",
      "El numero 13 es impar\n",
      "El numero 14 es par\n",
      "El numero 15 es impar\n",
      "El numero 16 es par\n",
      "El numero 17 es impar\n",
      "El numero 18 es par\n",
      "El numero 19 es impar\n",
      "El numero 20 es par\n"
     ]
    }
   ],
   "source": [
    "i = 1\n",
    "while (i <= 20):\n",
    "    if (i % 2 == 0):\n",
    "        print(f'El numero {i} es par')\n",
    "    else:\n",
    "        print(f'El numero {i} es impar')\n",
    "    i = i + 1"
   ]
  },
  {
   "cell_type": "code",
   "execution_count": 7,
   "metadata": {},
   "outputs": [
    {
     "name": "stdout",
     "output_type": "stream",
     "text": [
      "El número  1  es impar\n",
      "El número  2  es par\n",
      "El número  3  es impar\n",
      "El número  4  es par\n",
      "El número  5  es impar\n",
      "El número  6  es par\n",
      "El número  7  es impar\n",
      "El número  8  es par\n",
      "El número  9  es impar\n",
      "El número  10  es par\n",
      "El número  11  es impar\n",
      "El número  12  es par\n",
      "El número  13  es impar\n",
      "El número  14  es par\n",
      "El número  15  es impar\n",
      "El número  16  es par\n",
      "El número  17  es impar\n",
      "El número  18  es par\n",
      "El número  19  es impar\n",
      "El número  20  es par\n"
     ]
    }
   ],
   "source": [
    "for i in range(1, 21):\n",
    "    if i % 2 == 0:\n",
    "        print('El número ', str(i), ' es par')\n",
    "    else:\n",
    "        print('El número ', str(i), ' es impar')"
   ]
  },
  {
   "cell_type": "markdown",
   "metadata": {},
   "source": [
    "4) En un ciclo for mostrar para los valores entre 0 y 5 el resultado de elevarlo a la potencia igual a 3"
   ]
  },
  {
   "cell_type": "code",
   "execution_count": 9,
   "metadata": {},
   "outputs": [
    {
     "name": "stdout",
     "output_type": "stream",
     "text": [
      "Valor: 0  Elevado a la 3ra potencia: 0\n",
      "Valor: 1  Elevado a la 3ra potencia: 1\n",
      "Valor: 2  Elevado a la 3ra potencia: 8\n",
      "Valor: 3  Elevado a la 3ra potencia: 27\n",
      "Valor: 4  Elevado a la 3ra potencia: 64\n",
      "Valor: 5  Elevado a la 3ra potencia: 125\n"
     ]
    }
   ],
   "source": [
    "for i in range(0, 6):\n",
    "    print('Valor:', str(i), ' Elevado a la 3ra potencia:', str(i**3))"
   ]
  },
  {
   "cell_type": "markdown",
   "metadata": {},
   "source": [
    "5) Crear una variable que contenga un número entero y realizar un ciclo for la misma cantidad de ciclos"
   ]
  },
  {
   "cell_type": "code",
   "execution_count": 14,
   "metadata": {},
   "outputs": [],
   "source": [
    "n = 20\n",
    "j = 1\n",
    "for i in range(j, n):\n",
    "    continue"
   ]
  },
  {
   "cell_type": "markdown",
   "metadata": {},
   "source": [
    "6) Utilizar un ciclo while para realizar el factorial de un número guardado en una variable, sólo si la variable contiene un número entero mayor a 0"
   ]
  },
  {
   "cell_type": "code",
   "execution_count": 31,
   "metadata": {},
   "outputs": [
    {
     "name": "stdout",
     "output_type": "stream",
     "text": [
      "4\n",
      "12\n",
      "24\n"
     ]
    }
   ],
   "source": [
    "numero = 4\n",
    "factorial = 1\n",
    "while(numero > 1):\n",
    "    factorial = numero * factorial\n",
    "    print(factorial)\n",
    "    numero = numero - 1\n",
    "#print(factorial)"
   ]
  },
  {
   "cell_type": "code",
   "execution_count": 27,
   "metadata": {},
   "outputs": [
    {
     "name": "stdout",
     "output_type": "stream",
     "text": [
      "1\n"
     ]
    }
   ],
   "source": [
    "numero = -1\n",
    "factorial = 1\n",
    "for i in range(2, (numero + 1)):\n",
    "    factorial = i * factorial\n",
    "print(factorial)"
   ]
  },
  {
   "cell_type": "code",
   "execution_count": 28,
   "metadata": {},
   "outputs": [
    {
     "name": "stdout",
     "output_type": "stream",
     "text": [
      "La variable no es un entero\n"
     ]
    }
   ],
   "source": [
    "n = 'otra cosa'\n",
    "if (type(n) == int):\n",
    "    if (n > 0):\n",
    "        factorial = n\n",
    "        while (n > 2):\n",
    "            n = n - 1\n",
    "            factorial = factorial * n\n",
    "        print('El factorial es', factorial)\n",
    "    else:\n",
    "        print('La variable no es mayor a cero')\n",
    "else:\n",
    "    print('La variable no es un entero')\n",
    "    "
   ]
  },
  {
   "cell_type": "markdown",
   "metadata": {},
   "source": [
    "7) Crear un ciclo for dentro de un ciclo while"
   ]
  },
  {
   "cell_type": "code",
   "execution_count": 32,
   "metadata": {},
   "outputs": [
    {
     "name": "stdout",
     "output_type": "stream",
     "text": [
      "Ciclo while nro 2\n",
      "Ciclo for nro 1\n",
      "Ciclo while nro 3\n",
      "Ciclo for nro 1\n",
      "Ciclo while nro 3\n",
      "Ciclo for nro 2\n",
      "Ciclo while nro 4\n",
      "Ciclo for nro 1\n",
      "Ciclo while nro 4\n",
      "Ciclo for nro 2\n",
      "Ciclo while nro 4\n",
      "Ciclo for nro 3\n"
     ]
    }
   ],
   "source": [
    "n = 0\n",
    "while(n < 5):\n",
    "    for i in range(1,n):\n",
    "        print('Ciclo while nro ' + str(n))\n",
    "        print('Ciclo for nro ' + str(i))\n",
    "    \n",
    "    n += 1"
   ]
  },
  {
   "cell_type": "markdown",
   "metadata": {},
   "source": [
    "8) Crear un ciclo while dentro de un ciclo for"
   ]
  },
  {
   "cell_type": "code",
   "execution_count": 3,
   "metadata": {},
   "outputs": [],
   "source": [
    "n = 5\n",
    "for i in range(1, n):\n",
    "    while(n < 5):\n",
    "        n -= 1\n",
    "        print('Ciclo while nro ' + str(n))\n",
    "        print('Ciclo for nro ' + str(i))"
   ]
  },
  {
   "cell_type": "markdown",
   "metadata": {},
   "source": [
    "9) Imprimir los números primos existentes entre 0 y 30"
   ]
  },
  {
   "cell_type": "code",
   "execution_count": 120,
   "metadata": {},
   "outputs": [
    {
     "name": "stdout",
     "output_type": "stream",
     "text": [
      "El número 1 es primo\n",
      "El número 2 es primo\n",
      "El número 3 es primo\n",
      "El número 5 es primo\n",
      "El número 7 es primo\n",
      "El número 11 es primo\n",
      "El número 13 es primo\n",
      "El número 17 es primo\n",
      "El número 19 es primo\n",
      "El número 23 es primo\n",
      "El número 29 es primo\n"
     ]
    }
   ],
   "source": [
    "min = 1\n",
    "max = 30\n",
    "for n in range(min, (max + 1)):\n",
    "    primo = True\n",
    "    j = 2\n",
    "    while(j < n):\n",
    "        if (n % j == 0):\n",
    "            primo = False\n",
    "            break\n",
    "        j += 1\n",
    "    if (primo):\n",
    "        print('El número', n, 'es primo')"
   ]
  },
  {
   "cell_type": "code",
   "execution_count": 161,
   "metadata": {},
   "outputs": [
    {
     "name": "stdout",
     "output_type": "stream",
     "text": [
      "Los números primos menores o iguales a 30 son:  2, 3, 5, 7, 11, 13, 17, 19, 23, 29\n"
     ]
    }
   ],
   "source": [
    "def numeros_primos(x):\n",
    "    x=int(x)\n",
    "    if x<2:\n",
    "        primos=['No hay números primos']\n",
    "    elif x>2:\n",
    "        primos=list(range(3,x+1,2))\n",
    "        primos.insert(0,2)\n",
    "    else:\n",
    "        primos=[2]\n",
    "    \n",
    "    if len(primos)>4:\n",
    "        import math\n",
    "        i=4\n",
    "        j=3\n",
    "        while i<len(primos):\n",
    "            y=int(math.sqrt(primos[i]))\n",
    "            if primos[i]%j==0:\n",
    "                primos.remove(primos[i])\n",
    "                j=3\n",
    "            elif j>=y:\n",
    "                j=3\n",
    "                i+=1\n",
    "            else:\n",
    "                j+=2\n",
    "    return(primos)\n",
    "n=30\n",
    "print('Los números primos menores o iguales a', n, 'son: ', str(numeros_primos(n))[1:-1])"
   ]
  },
  {
   "cell_type": "markdown",
   "metadata": {},
   "source": [
    "10) ¿Se puede mejorar el proceso del punto 9? Utilizar las sentencias break y/ó continue para tal fin"
   ]
  },
  {
   "cell_type": "code",
   "execution_count": 114,
   "metadata": {},
   "outputs": [
    {
     "name": "stdout",
     "output_type": "stream",
     "text": [
      "Como esta creado el while, un break es contraproducente, ya que se necesita que dentro del while se evalúe todos los números que estan dentro de una lista. Al aplicar un break se deja de evaluar los siguientes númers. Lo que si óptimiza el tiempo de ejecución es el continue, pero este no afecta las iteraciones del código:\n",
      "\n"
     ]
    }
   ],
   "source": [
    "print('Como esta creado el while, un break es contraproducente, ya que se necesita que dentro del while se evalúe todos los números que estan dentro de una lista. Al aplicar un break se deja de evaluar los siguientes númers. Lo que si óptimiza el tiempo de ejecución es el continue, pero este no afecta las iteraciones del código:\\n')"
   ]
  },
  {
   "cell_type": "code",
   "execution_count": 2,
   "metadata": {},
   "outputs": [
    {
     "name": "stdout",
     "output_type": "stream",
     "text": [
      "Los números primos menores o iguales a 30 son:  2, 3, 5, 7, 11, 13, 17, 19, 23, 25, 29\n"
     ]
    }
   ],
   "source": [
    "def numeros_primos_o(x):\n",
    "    x=int(x)\n",
    "    if x<2:\n",
    "        primos=['No hay números primos']\n",
    "    elif x>2:\n",
    "        primos=list(range(3,x+1,2))\n",
    "        primos.insert(0,2)\n",
    "    else:\n",
    "        primos=[2]\n",
    "    \n",
    "    if len(primos)>4:\n",
    "        import math\n",
    "        i=4\n",
    "        j=3\n",
    "        while i<len(primos):\n",
    "            y=int(math.sqrt(primos[i]))\n",
    "            if primos[i]%j==0:\n",
    "                primos.remove(primos[i])\n",
    "                j=3\n",
    "            elif j>=y:\n",
    "                j=3\n",
    "                i+=2\n",
    "            else:\n",
    "                j+=1\n",
    "                continue\n",
    "    return(primos)\n",
    "n=30\n",
    "print('Los números primos menores o iguales a', n, 'son: ', str(numeros_primos_o(n))[1:-1])"
   ]
  },
  {
   "cell_type": "code",
   "execution_count": 122,
   "metadata": {},
   "outputs": [
    {
     "name": "stdout",
     "output_type": "stream",
     "text": [
      "0\n",
      "1\n",
      "2\n",
      "3\n",
      "5\n",
      "7\n",
      "11\n",
      "13\n",
      "17\n",
      "19\n",
      "23\n",
      "29\n"
     ]
    }
   ],
   "source": [
    "tope_rango=30\n",
    "n = 0\n",
    "primo = True\n",
    "while (n < tope_rango):\n",
    "    for div in range(2, n):\n",
    "        if (n % div == 0):\n",
    "            primo = False\n",
    "            break\n",
    "    if (primo):\n",
    "        print(n)\n",
    "    else:\n",
    "        primo = True\n",
    "    n += 1"
   ]
  },
  {
   "cell_type": "markdown",
   "metadata": {},
   "source": [
    "11) En los puntos 9 y 10, se diseño un código que encuentra números primos y además se lo optimizó. ¿Es posible saber en qué medida se optimizó?"
   ]
  },
  {
   "cell_type": "code",
   "execution_count": 97,
   "metadata": {},
   "outputs": [
    {
     "name": "stdout",
     "output_type": "stream",
     "text": [
      "Se puede comparar los codigos utilizando un contador de las iteraciones siempre y cuando la optimizaci+on sea utilizando el comando brake. Se crea una variable ciclos=0 y se le suma 1 cada vez que se realzia iteración\n",
      "\n",
      "Cuando solo se utiliza el coando continue, la optimizaión se ve en el tiempo de ejecución del código y cuando la cantidad de iteracciones son bastante grandes\n",
      "\n"
     ]
    }
   ],
   "source": [
    "print('Se puede comparar los codigos utilizando un contador de las iteraciones siempre y cuando la optimización sea utilizando el comando brake. Se crea una variable ciclos=0 y se le suma 1 cada vez que se realzia iteración\\n')\n",
    "print('Cuando solo se utiliza el coando continue, la optimizaión se ve en el tiempo de ejecución del código y cuando la cantidad de iteracciones son bastante grandes\\n')"
   ]
  },
  {
   "cell_type": "code",
   "execution_count": 164,
   "metadata": {},
   "outputs": [
    {
     "name": "stdout",
     "output_type": "stream",
     "text": [
      "con  2437 ciclos:\n",
      "Los números primos menores o iguales a 1000 son:  2, 3, 5, 7, 11, 13, 17, 19, 23, 29, 31, 37, 41, 43, 47, 53, 59, 61, 67, 71, 73, 79, 83, 89, 97, 101, 103, 107, 109, 113, 127, 131, 137, 139, 149, 151, 157, 163, 167, 173, 179, 181, 191, 193, 197, 199, 211, 223, 227, 229, 233, 239, 241, 251, 257, 263, 269, 271, 277, 281, 283, 293, 307, 311, 313, 317, 331, 337, 347, 349, 353, 359, 367, 373, 379, 383, 389, 397, 401, 409, 419, 421, 431, 433, 439, 443, 449, 457, 461, 463, 467, 479, 487, 491, 499, 503, 509, 521, 523, 541, 547, 557, 563, 569, 571, 577, 587, 593, 599, 601, 607, 613, 617, 619, 631, 641, 643, 647, 653, 659, 661, 673, 677, 683, 691, 701, 709, 719, 727, 733, 739, 743, 751, 757, 761, 769, 773, 787, 797, 809, 811, 821, 823, 827, 829, 839, 853, 857, 859, 863, 877, 881, 883, 887, 907, 911, 919, 929, 937, 941, 947, 953, 967, 971, 977, 983, 991, 997\n"
     ]
    }
   ],
   "source": [
    "def numeros_primos_o(x):\n",
    "    ciclos=0\n",
    "    x=int(x)\n",
    "    if x<2:\n",
    "        primos=['No hay números primos']\n",
    "        ciclos+=1\n",
    "    elif x>2:\n",
    "        primos=list(range(3,x+1,2))\n",
    "        primos.insert(0,2)\n",
    "        ciclos+=1\n",
    "    else:\n",
    "        primos=[2]\n",
    "        ciclos+=1\n",
    "    \n",
    "    if len(primos)>4:\n",
    "        import math\n",
    "        i=4\n",
    "        j=3\n",
    "        while i<len(primos):\n",
    "            y=int(math.sqrt(primos[i]))\n",
    "            if primos[i]%j==0:\n",
    "                primos.remove(primos[i])\n",
    "                j=3\n",
    "                ciclos+=1\n",
    "            elif j>=y:\n",
    "                j=3\n",
    "                i+=1\n",
    "                ciclos+=1\n",
    "            else:\n",
    "                j+=2\n",
    "                ciclos+=1\n",
    "                continue\n",
    "    print('con ', ciclos, 'ciclos:')\n",
    "    return(primos)\n",
    "\n",
    "n=1000\n",
    "print('Los números primos menores o iguales a', n, 'son: ', str(numeros_primos_o(n))[1:-1])"
   ]
  },
  {
   "cell_type": "markdown",
   "metadata": {},
   "source": [
    "12) Si la cantidad de números que se evalúa es mayor a treinta, esa optimización crece?"
   ]
  },
  {
   "cell_type": "code",
   "execution_count": 105,
   "metadata": {},
   "outputs": [
    {
     "name": "stdout",
     "output_type": "stream",
     "text": [
      "0\n",
      "1\n",
      "2\n",
      "3\n",
      "5\n",
      "7\n",
      "11\n",
      "13\n",
      "17\n",
      "19\n",
      "23\n",
      "29\n",
      "31\n",
      "37\n",
      "41\n",
      "43\n",
      "47\n",
      "53\n",
      "59\n",
      "61\n",
      "67\n",
      "71\n",
      "73\n",
      "79\n",
      "83\n",
      "89\n",
      "97\n",
      "Cantidad de ciclos: 4753\n"
     ]
    }
   ],
   "source": [
    "tope_rango=100\n",
    "ciclos_sin_break = 0\n",
    "n = 0\n",
    "primo = True\n",
    "while (n < tope_rango):\n",
    "    for div in range(2, n):\n",
    "        ciclos_sin_break += 1\n",
    "        if (n % div == 0):\n",
    "            primo = False\n",
    "    if (primo):\n",
    "        print(n)\n",
    "    else:\n",
    "        primo = True\n",
    "    n += 1\n",
    "print('Cantidad de ciclos: ' + str(ciclos_sin_break))"
   ]
  },
  {
   "cell_type": "code",
   "execution_count": 125,
   "metadata": {},
   "outputs": [
    {
     "name": "stdout",
     "output_type": "stream",
     "text": [
      "Los números primos menores o iguales a 100 son:  2, 3, 5, 7, 11, 13, 17, 19, 23, 29, 31, 37, 41, 43, 47, 53, 59, 61, 67, 71, 73, 79, 83, 89, 97\n"
     ]
    }
   ],
   "source": [
    "n=100\n",
    "print('Los números primos menores o iguales a', n, 'son: ', str(numeros_primos_o(n))[1:-1])"
   ]
  },
  {
   "cell_type": "code",
   "execution_count": 59,
   "metadata": {},
   "outputs": [
    {
     "name": "stdout",
     "output_type": "stream",
     "text": [
      "0\n",
      "1\n",
      "2\n",
      "3\n",
      "5\n",
      "7\n",
      "11\n",
      "13\n",
      "17\n",
      "19\n",
      "23\n",
      "29\n",
      "31\n",
      "37\n",
      "41\n",
      "43\n",
      "47\n",
      "53\n",
      "59\n",
      "61\n",
      "67\n",
      "71\n",
      "73\n",
      "79\n",
      "83\n",
      "89\n",
      "97\n",
      "Cantidad de ciclos: 1132\n",
      "Se optimizó a un 0.2381653692404797% de ciclos aplicando break\n"
     ]
    }
   ],
   "source": [
    "ciclos_con_break = 0\n",
    "n = 0\n",
    "primo = True\n",
    "while (n < tope_rango):\n",
    "    for div in range(2, n):\n",
    "        ciclos_con_break += 1\n",
    "        if (n % div == 0):\n",
    "            primo = False\n",
    "            break\n",
    "    if (primo):\n",
    "        print(n)\n",
    "    else:\n",
    "        primo = True\n",
    "    n += 1\n",
    "print('Cantidad de ciclos: ' + str(ciclos_con_break))\n",
    "print('Se optimizó a un ' + str(ciclos_con_break/ciclos_sin_break) + '% de ciclos aplicando break')"
   ]
  },
  {
   "cell_type": "markdown",
   "metadata": {},
   "source": [
    "13) Aplicando continue, armar un ciclo while que solo imprima los valores divisibles por 12, dentro del rango de números de 100 a 300"
   ]
  },
  {
   "cell_type": "code",
   "execution_count": 23,
   "metadata": {},
   "outputs": [
    {
     "name": "stdout",
     "output_type": "stream",
     "text": [
      "108 es divisible por 12\n",
      "120 es divisible por 12\n",
      "132 es divisible por 12\n",
      "144 es divisible por 12\n",
      "156 es divisible por 12\n",
      "168 es divisible por 12\n",
      "180 es divisible por 12\n",
      "192 es divisible por 12\n",
      "204 es divisible por 12\n",
      "216 es divisible por 12\n",
      "228 es divisible por 12\n",
      "240 es divisible por 12\n",
      "252 es divisible por 12\n",
      "264 es divisible por 12\n",
      "276 es divisible por 12\n",
      "288 es divisible por 12\n",
      "300 es divisible por 12\n"
     ]
    }
   ],
   "source": [
    "i=100\n",
    "while i>=100 and i<=300:\n",
    "    if i%12==0:\n",
    "        print('{} es divisible por 12'.format(i))\n",
    "        i+=1\n",
    "    else:\n",
    "        i+=1\n",
    "        continue"
   ]
  },
  {
   "cell_type": "code",
   "execution_count": 28,
   "metadata": {},
   "outputs": [
    {
     "name": "stdout",
     "output_type": "stream",
     "text": [
      "108 es divisible por 12\n",
      "120 es divisible por 12\n",
      "132 es divisible por 12\n",
      "144 es divisible por 12\n",
      "156 es divisible por 12\n",
      "168 es divisible por 12\n",
      "180 es divisible por 12\n",
      "192 es divisible por 12\n",
      "204 es divisible por 12\n",
      "216 es divisible por 12\n",
      "228 es divisible por 12\n",
      "240 es divisible por 12\n",
      "252 es divisible por 12\n",
      "264 es divisible por 12\n",
      "276 es divisible por 12\n",
      "288 es divisible por 12\n",
      "300 es divisible por 12\n"
     ]
    }
   ],
   "source": [
    "i=100\n",
    "while i>=100 and i<=300:\n",
    "    if i%12==0:\n",
    "        print('{} es divisible por 12'.format(i))\n",
    "        i+=12\n",
    "        continue\n",
    "    else:\n",
    "        i+=2\n",
    "        continue"
   ]
  },
  {
   "cell_type": "markdown",
   "metadata": {},
   "source": [
    "14) Utilizar la función **input()** que permite hacer ingresos por teclado, para encontrar números primos y dar la opción al usario de buscar el siguiente"
   ]
  },
  {
   "cell_type": "code",
   "execution_count": 34,
   "metadata": {},
   "outputs": [
    {
     "name": "stdout",
     "output_type": "stream",
     "text": [
      "1\n",
      "¿Desea encontrar el siguiente número primo?\n",
      "Se finaliza el proceso\n"
     ]
    }
   ],
   "source": [
    "n = 1\n",
    "sigue = 1\n",
    "primo = True\n",
    "while (sigue == 1):\n",
    "    for div in range(2, n):\n",
    "        if (n % div == 0):\n",
    "            primo = False\n",
    "            break\n",
    "    if (primo):\n",
    "        print(n)\n",
    "        print('¿Desea encontrar el siguiente número primo?')\n",
    "        if (input() != '1'):\n",
    "            print('Se finaliza el proceso')\n",
    "            break\n",
    "    else:\n",
    "        primo = True\n",
    "    n += 1"
   ]
  },
  {
   "cell_type": "code",
   "execution_count": 56,
   "metadata": {},
   "outputs": [
    {
     "name": "stdout",
     "output_type": "stream",
     "text": [
      "Aquí podrás obtener los siguientes números primos despúes de un número dado\n",
      "\n",
      "El número primo que se encuetra despúes de 90 es el  97\n",
      "Comprendo, te dejo continuar...\n"
     ]
    }
   ],
   "source": [
    "print('Aquí podrás obtener los siguientes números primos despúes de un número dado')\n",
    "n=int(input('¿Por qué número queires empezar? '))\n",
    "def siguiente_primo(x):\n",
    "    if x<2:\n",
    "        p=2\n",
    "    elif x==2:\n",
    "        p=3\n",
    "    else:\n",
    "        import math\n",
    "        primo=False\n",
    "        x=int(x)\n",
    "        while primo==False:\n",
    "            x+=1\n",
    "            m=int(math.sqrt(x))\n",
    "            i=2\n",
    "            while i<=m:\n",
    "                if x%i==0:\n",
    "                    break\n",
    "                elif i==m and x%m!=0:\n",
    "                    p=x\n",
    "                    primo=True\n",
    "                    break\n",
    "                else:\n",
    "                    i+=1\n",
    "                    continue\n",
    "    return(p)\n",
    "\n",
    "print('\\nEl número primo que se encuetra despúes de {} es el '.format(n), siguiente_primo(n))\n",
    "\n",
    "ejecute=True\n",
    "while ejecute==True:\n",
    "    respuesta=input('¿Deseas vover a conocer el número primo que viene de otro número dado? ')\n",
    "    if respuesta=='si':\n",
    "        n=int(input('¿Con qué número queires seguir?'))\n",
    "        print('El número primo que se encuetra despúes de {} es el '.format(n), siguiente_primo(n))\n",
    "    elif respuesta=='no':\n",
    "        print('Comprendo, te dejo continuar...')\n",
    "        break\n",
    "    else:\n",
    "        print('recuerde que su respuesta debe ser si o no')\n",
    "        continue\n",
    "\n"
   ]
  },
  {
   "cell_type": "markdown",
   "metadata": {},
   "source": [
    "15) Crear un ciclo while que encuentre dentro del rango de 100 a 300 el primer número divisible por 3 y además múltiplo de 6"
   ]
  },
  {
   "cell_type": "code",
   "execution_count": 61,
   "metadata": {},
   "outputs": [
    {
     "name": "stdout",
     "output_type": "stream",
     "text": [
      "El número es:  102\n"
     ]
    }
   ],
   "source": [
    "n = 100\n",
    "while(n<=300):\n",
    "    if (n % 6 == 0):\n",
    "        print('El número es: ', str(n))\n",
    "        break\n",
    "    n += 1"
   ]
  },
  {
   "cell_type": "code",
   "execution_count": 70,
   "metadata": {},
   "outputs": [
    {
     "name": "stdout",
     "output_type": "stream",
     "text": [
      "El primer número que es divisible por 6, del intervalo [100, 300], es  102\n"
     ]
    }
   ],
   "source": [
    "\n",
    "n=100\n",
    "while n<=300:\n",
    "    if n%6==0:\n",
    "        break\n",
    "    else:\n",
    "        n+=1\n",
    "        continue\n",
    "print('El primer número que es divisible por 6, del intervalo [100, 300], es ', n)"
   ]
  },
  {
   "cell_type": "code",
   "execution_count": 4,
   "metadata": {},
   "outputs": [
    {
     "name": "stdout",
     "output_type": "stream",
     "text": [
      "['rojo', 'azul', 'amarillo', 'verde', 12, True, 5.8]\n"
     ]
    }
   ],
   "source": [
    "mi_lista = ['rojo','azul','amarillo','verde',12,True,5.8]\n",
    "print(mi_lista)"
   ]
  },
  {
   "cell_type": "code",
   "execution_count": 18,
   "metadata": {},
   "outputs": [
    {
     "data": {
      "text/plain": [
       "list"
      ]
     },
     "execution_count": 18,
     "metadata": {},
     "output_type": "execute_result"
    }
   ],
   "source": [
    "type(mi_lista[1:4])"
   ]
  },
  {
   "cell_type": "code",
   "execution_count": 30,
   "metadata": {},
   "outputs": [
    {
     "data": {
      "text/plain": [
       "['rojo', 'amarillo', 'negro', 'celeste', 12, True, 5.8]"
      ]
     },
     "execution_count": 30,
     "metadata": {},
     "output_type": "execute_result"
    }
   ],
   "source": [
    "mi_lista"
   ]
  },
  {
   "cell_type": "code",
   "execution_count": 25,
   "metadata": {},
   "outputs": [],
   "source": [
    "mi_lista.insert(3, 'negro')"
   ]
  },
  {
   "cell_type": "code",
   "execution_count": 28,
   "metadata": {},
   "outputs": [],
   "source": [
    "mi_lista.remove('azul')"
   ]
  },
  {
   "cell_type": "code",
   "execution_count": 37,
   "metadata": {},
   "outputs": [
    {
     "data": {
      "text/plain": [
       "['rojo', 'amarillo', 'negro', 'celeste', 12, True, 'blanco', 12, 'blanco', 12]"
      ]
     },
     "execution_count": 37,
     "metadata": {},
     "output_type": "execute_result"
    }
   ],
   "source": [
    "mi_lista"
   ]
  },
  {
   "cell_type": "code",
   "execution_count": 36,
   "metadata": {},
   "outputs": [],
   "source": [
    "mi_lista2 = ['blanco',12]\n",
    "mi_lista.extend(mi_lista2)"
   ]
  },
  {
   "cell_type": "code",
   "execution_count": 39,
   "metadata": {},
   "outputs": [],
   "source": [
    "mi_lista = [8,1,5,0]"
   ]
  },
  {
   "cell_type": "code",
   "execution_count": 40,
   "metadata": {},
   "outputs": [],
   "source": [
    "mi_lista.sort()"
   ]
  },
  {
   "cell_type": "code",
   "execution_count": 41,
   "metadata": {},
   "outputs": [
    {
     "data": {
      "text/plain": [
       "[0, 1, 5, 8]"
      ]
     },
     "execution_count": 41,
     "metadata": {},
     "output_type": "execute_result"
    }
   ],
   "source": [
    "mi_lista"
   ]
  },
  {
   "cell_type": "code",
   "execution_count": 42,
   "metadata": {},
   "outputs": [
    {
     "data": {
      "text/plain": [
       "False"
      ]
     },
     "execution_count": 42,
     "metadata": {},
     "output_type": "execute_result"
    }
   ],
   "source": [
    "9 in mi_lista"
   ]
  },
  {
   "cell_type": "code",
   "execution_count": 43,
   "metadata": {},
   "outputs": [],
   "source": [
    "mi_tupla = (5,5,6)"
   ]
  },
  {
   "cell_type": "code",
   "execution_count": 46,
   "metadata": {},
   "outputs": [
    {
     "ename": "NameError",
     "evalue": "name 'mi_tupla' is not defined",
     "output_type": "error",
     "traceback": [
      "\u001b[1;31m---------------------------------------------------------------------------\u001b[0m",
      "\u001b[1;31mNameError\u001b[0m                                 Traceback (most recent call last)",
      "\u001b[1;32m~\\AppData\\Local\\Temp/ipykernel_12848/3347640657.py\u001b[0m in \u001b[0;36m<module>\u001b[1;34m\u001b[0m\n\u001b[1;32m----> 1\u001b[1;33m \u001b[1;36m5\u001b[0m \u001b[1;32min\u001b[0m \u001b[0mmi_tupla\u001b[0m\u001b[1;33m\u001b[0m\u001b[1;33m\u001b[0m\u001b[0m\n\u001b[0m",
      "\u001b[1;31mNameError\u001b[0m: name 'mi_tupla' is not defined"
     ]
    }
   ],
   "source": [
    "5 in mi_tupla"
   ]
  },
  {
   "cell_type": "code",
   "execution_count": 45,
   "metadata": {},
   "outputs": [],
   "source": [
    "del mi_tupla"
   ]
  },
  {
   "cell_type": "code",
   "execution_count": 2,
   "metadata": {},
   "outputs": [
    {
     "name": "stdout",
     "output_type": "stream",
     "text": [
      "a\n",
      "b\n",
      "c\n",
      "d\n",
      "e\n"
     ]
    }
   ],
   "source": [
    ":\n",
    "for i in 'abcde':\n",
    "    print(i)\n",
    "    "
   ]
  }
 ],
 "metadata": {
  "interpreter": {
   "hash": "c85384e4cb51c8b72350f3a8712cc8351fdc3955e32a27f9b60c6242ab125f01"
  },
  "kernelspec": {
   "display_name": "Python 3 (ipykernel)",
   "language": "python",
   "name": "python3"
  },
  "language_info": {
   "codemirror_mode": {
    "name": "ipython",
    "version": 3
   },
   "file_extension": ".py",
   "mimetype": "text/x-python",
   "name": "python",
   "nbconvert_exporter": "python",
   "pygments_lexer": "ipython3",
   "version": "3.10.4"
  }
 },
 "nbformat": 4,
 "nbformat_minor": 4
}
