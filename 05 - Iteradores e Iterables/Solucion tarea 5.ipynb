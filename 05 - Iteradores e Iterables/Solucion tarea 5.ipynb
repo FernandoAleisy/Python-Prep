{
 "cells": [
  {
   "cell_type": "markdown",
   "metadata": {},
   "source": [
    "<h1 align=\"center\" style=\"color:#ff006d;\">ITERADORES E ITERABLES</h1>"
   ]
  },
  {
   "cell_type": "markdown",
   "metadata": {},
   "source": [
    "<div><b style=\"color:#ff7d00;\">1. A partir de una lista vacía, utilizar un ciclo <f style=\"color:#8f00ff;\">while</f> para cargar allí números negativos del -15 al -1</b></div>"
   ]
  },
  {
   "cell_type": "code",
   "execution_count": 3,
   "metadata": {},
   "outputs": [
    {
     "name": "stdout",
     "output_type": "stream",
     "text": [
      "[-15, -14, -13, -12, -11, -10, -9, -8, -7, -6, -5, -4, -3, -2, -1]\n"
     ]
    }
   ],
   "source": [
    "numeros=list()\n",
    "i=15\n",
    "while i>=1:\n",
    "    numeros.append(-i)\n",
    "    i-=1\n",
    "print(numeros)"
   ]
  },
  {
   "cell_type": "markdown",
   "metadata": {},
   "source": [
    "<div><b style=\"color:#ff7d00;\">2. ¿Con un ciclo <f style=\"color:#8f00ff;\">while</f> sería posible recorrer la lista para imprimir sólo los números pares?</b></div>"
   ]
  },
  {
   "cell_type": "code",
   "execution_count": 4,
   "metadata": {},
   "outputs": [
    {
     "name": "stdout",
     "output_type": "stream",
     "text": [
      "Si es posible mostrar los números pares con un ciclo while. Variando el indice en 2 unidades:\n",
      "\n",
      "Los números pares de la lista son:   -14, -12, -10, -8, -6, -4, -2\n"
     ]
    }
   ],
   "source": [
    "print('Si es posible mostrar los números pares con un ciclo while. Variando el indice en 2 unidades:\\n')\n",
    "\n",
    "i=1\n",
    "texto=''\n",
    "while i<15:\n",
    "    texto=texto+', '+str(numeros[i])\n",
    "    i+=2\n",
    "print('Los números pares de la lista son: ',texto[1:])"
   ]
  },
  {
   "cell_type": "markdown",
   "metadata": {},
   "source": [
    "<div><b style=\"color:#ff7d00;\">3. Resolver el punto anterior sin utilizar un ciclo <f style=\"color:#8f00ff;\">while</f></b></div>"
   ]
  },
  {
   "cell_type": "code",
   "execution_count": 5,
   "metadata": {},
   "outputs": [
    {
     "name": "stdout",
     "output_type": "stream",
     "text": [
      "Los números pares de la lista son:   -14, -12, -10, -8, -6, -4, -2\n"
     ]
    }
   ],
   "source": [
    "texto=''\n",
    "for i in range(1,15,2):\n",
    "    texto=texto+', '+str(numeros[i])\n",
    "print('Los números pares de la lista son: ',texto[1:])"
   ]
  },
  {
   "cell_type": "markdown",
   "metadata": {},
   "source": [
    "<b style=\"color:#ff7d00;\">4. Utilizar el iterable para recorrer sólo los primeros 3 elementos</b>"
   ]
  },
  {
   "cell_type": "code",
   "execution_count": 6,
   "metadata": {},
   "outputs": [
    {
     "name": "stdout",
     "output_type": "stream",
     "text": [
      "Los primeros 3 elementos de la lista son:   -15, -14, -13\n"
     ]
    }
   ],
   "source": [
    "texto=''\n",
    "for i in range(0,3):\n",
    "    texto=texto+', '+str(numeros[i])\n",
    "print('Los primeros 3 elementos de la lista son: ',texto[1:])"
   ]
  },
  {
   "cell_type": "markdown",
   "metadata": {},
   "source": [
    "<div><b style=\"color:#ff7d00;\">5. Utilizar la función <f style=\"color:#8f00ff;\">enumerate</f> para obtener dentro del iterable, tambien el índice al que corresponde el elemento</b></div>"
   ]
  },
  {
   "cell_type": "code",
   "execution_count": 7,
   "metadata": {},
   "outputs": [
    {
     "name": "stdout",
     "output_type": "stream",
     "text": [
      "El número 1 es el -15\n",
      "El número 2 es el -14\n",
      "El número 3 es el -13\n",
      "El número 4 es el -12\n",
      "El número 5 es el -11\n",
      "El número 6 es el -10\n",
      "El número 7 es el -9\n",
      "El número 8 es el -8\n",
      "El número 9 es el -7\n",
      "El número 10 es el -6\n",
      "El número 11 es el -5\n",
      "El número 12 es el -4\n",
      "El número 13 es el -3\n",
      "El número 14 es el -2\n",
      "El número 15 es el -1\n"
     ]
    }
   ],
   "source": [
    "texto=''\n",
    "for i, j in enumerate(numeros):\n",
    "    print('El número {} es el {}'.format(i+1,j))"
   ]
  },
  {
   "cell_type": "markdown",
   "metadata": {},
   "source": [
    "<div><b style=\"color:#ff7d00;\">6. Dada la siguiente lista de números enteros entre 1 y 20, crear un ciclo donde se completen los valores faltantes: <f style=\"color:#8f00ff;\"><br>lista=[1,2,5,7,8,10,13,14,15,17,20]</br><f></b></div>"
   ]
  },
  {
   "cell_type": "code",
   "execution_count": 8,
   "metadata": {},
   "outputs": [
    {
     "name": "stdout",
     "output_type": "stream",
     "text": [
      "[1, 2, 3, 4, 5, 6, 7, 8, 9, 10, 11, 12, 13, 14, 15, 16, 17, 18, 19, 20]\n"
     ]
    }
   ],
   "source": [
    "lista = [1,2,5,7,8,10,13,14,15,17,20]\n",
    "for i in range(1,21):\n",
    "    if i in lista:\n",
    "        continue\n",
    "    else:\n",
    "        lista.insert(i-1,i)\n",
    "        pass\n",
    "print(lista)"
   ]
  },
  {
   "cell_type": "markdown",
   "metadata": {},
   "source": [
    "<div><b style=\"color:#ff7d00;\">7. La sucesión de <f style=\"color:#8f00ff;\">Fibonacci</f> es un listado de números que sigue la fórmula:</br>\n",
    "<f style=\"color:#ff006d;\">n<sub>0</sub>=0<br>\n",
    "n<sub>1</sub>=1<br>\n",
    "n<sub>i</sub>=n<sub>i-1</sub>+n<sub>i-2</sub></f></br>\n",
    "<f style=\"color:#ff7d00;\">Crear una lista con los primeros treinta números de la sucesión</f></div>"
   ]
  },
  {
   "cell_type": "code",
   "execution_count": 9,
   "metadata": {},
   "outputs": [
    {
     "name": "stdout",
     "output_type": "stream",
     "text": [
      "[0, 1, 1, 2, 3, 5, 8, 13, 21, 34, 55, 89, 144, 233, 377, 610, 987, 1597, 2584, 4181, 6765, 10946, 17711, 28657, 46368, 75025, 121393, 196418, 317811, 514229]\n"
     ]
    }
   ],
   "source": [
    "fibonacci=[0,1]\n",
    "for i in range(2, 30):\n",
    "    fibonacci.append(fibonacci[i-2]+fibonacci[i-1])\n",
    "    continue\n",
    "\n",
    "print(fibonacci)\n"
   ]
  },
  {
   "cell_type": "markdown",
   "metadata": {},
   "source": [
    "<b style=\"color:#8f00ff;\">8. Realizar la suma de todos elementos de la lista del punto anterior</b>"
   ]
  },
  {
   "cell_type": "code",
   "execution_count": 10,
   "metadata": {},
   "outputs": [
    {
     "name": "stdout",
     "output_type": "stream",
     "text": [
      "1346268\n"
     ]
    }
   ],
   "source": [
    "print(sum(fibonacci))"
   ]
  },
  {
   "cell_type": "markdown",
   "metadata": {},
   "source": [
    "<div><b style=\"color:#ff7d00;\">9. La proporción aurea se expresa con una proporción matemática que nace el número irracional <f style=\"color:#8f00ff;\">Phi= 1,618…</f> que los griegos llamaron número áureo. El cuál se puede aproximar con la sucesión de <f style=\"color:#8f00ff;\">Fibonacci</f>. Con la lista del ejercicio anterior, imprimir el cociente de los últimos 5 pares de dos números contiguos:</b></div>\n",
    "<b style=\"color:#8f00ff;\">Donde i es la cantidad total de elementos</b>\n",
    "<div style=\"color:#ff006d;\"><b>n<sub>i-1</sub> / n<sub>i</sub></br>\n",
    "n<sub>i-2</sub> / n<sub>i-1</sub><br>\n",
    "n<sub>i-3</sub> / n<sub>i-2</sub><br>\n",
    "n<sub>i-4</sub> / n<sub>i-3</sub><br>\n",
    "n<sub>i-5</sub> / n<sub>i-4</sub><b><div>"
   ]
  },
  {
   "cell_type": "code",
   "execution_count": 30,
   "metadata": {},
   "outputs": [
    {
     "name": "stdout",
     "output_type": "stream",
     "text": [
      "1.6180339887543225\n",
      "1.618033988738303\n",
      "1.6180339887802426\n",
      "1.6180339886704431\n",
      "1.618033988957902\n"
     ]
    }
   ],
   "source": [
    "n=len(fibonacci)-1\n",
    "for i in range(n, n-5,-1):\n",
    "    print(fibonacci[i]/fibonacci[i-1])"
   ]
  },
  {
   "cell_type": "markdown",
   "metadata": {},
   "source": [
    "<div><b style=\"color:#ff7d00;\">10. A partir de la variable cadena ya dada, mostrar en qué posiciones aparece la letra <f style=\"color:#8f00ff;\">\"n\"</f></b></div>"
   ]
  },
  {
   "cell_type": "code",
   "execution_count": 62,
   "metadata": {},
   "outputs": [
    {
     "name": "stdout",
     "output_type": "stream",
     "text": [
      "La letra n aparece en las posiciones:  7, 21, 39, 60, 67\n"
     ]
    }
   ],
   "source": [
    "cadena = 'Hola Mundo. Esto es una practica del lenguaje de programación Python'\n",
    "\n",
    "n=[]\n",
    "for i, j in enumerate(cadena):\n",
    "    if j=='n':\n",
    "        n.append(i)\n",
    "    else:\n",
    "        pass\n",
    "print('La letra n aparece en las posiciones: ', str(n)[1:-1])"
   ]
  },
  {
   "cell_type": "markdown",
   "metadata": {},
   "source": [
    "<b style=\"color:#ff7d00;\">11. Crear un diccionario e imprimir sus claves utilizando un </b><b style=\"color:#8f00ff;\">iterador</b>"
   ]
  },
  {
   "cell_type": "code",
   "execution_count": 65,
   "metadata": {},
   "outputs": [
    {
     "name": "stdout",
     "output_type": "stream",
     "text": [
      "Ciudad\n",
      "Departamento\n",
      "Población\n"
     ]
    }
   ],
   "source": [
    "ciudades={'Ciudad':['Bogotá','Villavicencio','Cali'], \n",
    "'Departamento':['Cundinámarca','Meta','Valle del cauca'], \n",
    "'Población':[7878783,531275,2227642]}\n",
    "for i in ciudades:\n",
    "    print(i)"
   ]
  },
  {
   "cell_type": "markdown",
   "metadata": {},
   "source": [
    "<div><b style=\"color:#ff7d00;\">12. Convertir en una lista la variable <f style=\"color:#8f00ff;\">\"cadena\"</f> del punto 10 y luego recorrerla con un iterador</b></div>"
   ]
  },
  {
   "cell_type": "code",
   "execution_count": 72,
   "metadata": {},
   "outputs": [
    {
     "name": "stdout",
     "output_type": "stream",
     "text": [
      "Hola\n",
      "Mundo.\n",
      "Esto\n",
      "es\n",
      "una\n",
      "practica\n",
      "del\n",
      "lenguaje\n",
      "de\n",
      "programación\n",
      "Python\n"
     ]
    }
   ],
   "source": [
    "ciudades_lista=cadena.split(' ')\n",
    "ciudades_lista\n",
    "palabras=iter(ciudades_lista)\n",
    "for i in range(0,len(ciudades_lista)):\n",
    "    print(next(palabras))"
   ]
  },
  {
   "cell_type": "markdown",
   "metadata": {},
   "source": [
    "<div><b style=\"color:#ff7d00;\">13. Crear dos listas y unirlas en una tupla utilizando la función <f style=\"color:#8f00ff;\">zip</f)</b></div>"
   ]
  },
  {
   "cell_type": "code",
   "execution_count": 77,
   "metadata": {},
   "outputs": [
    {
     "name": "stdout",
     "output_type": "stream",
     "text": [
      "La variable dupla_1 es del tipo:  zip\n",
      "[('cama', 4), ('nevera', 2), ('moto', 2), ('carro', 1), ('televisor', 2)]\n"
     ]
    }
   ],
   "source": [
    "lista_1=['cama','nevera','moto','carro','televisor']\n",
    "lista_2=[4,2,2,1,2]\n",
    "dupla_1=(zip(lista_1,lista_2))\n",
    "print('La variable dupla_1 es del tipo: ',str(type(dupla_1))[8:-2])\n",
    "print(list(dupla_1))\n"
   ]
  },
  {
   "cell_type": "markdown",
   "metadata": {},
   "source": [
    "<b style=\"color:#ff7d00;\">14. A partir de la siguiente lista de números, crear una nueva sólo si el número es divisible por 7</b>"
   ]
  },
  {
   "cell_type": "code",
   "execution_count": 94,
   "metadata": {},
   "outputs": [
    {
     "name": "stdout",
     "output_type": "stream",
     "text": [
      "[21, 35, 42, 56, 63, 84, 91]\n"
     ]
    }
   ],
   "source": [
    "lis=[18,21,29,32,35,42,56,60,63,71,84,90,91,100]\n",
    "divisibles_7=[]\n",
    "for i in lis:\n",
    "    if i%7==0:\n",
    "        divisibles_7.append(i)\n",
    "print(divisibles_7)"
   ]
  },
  {
   "cell_type": "markdown",
   "metadata": {},
   "source": [
    "<b style=\"color:#ff7d00;\">15. A partir de la lista de a continuación, contar la cantidad total de elementos que contiene, teniendo en cuenta que un elemento de la lista podría ser otra lista:</b>"
   ]
  },
  {
   "cell_type": "code",
   "execution_count": 95,
   "metadata": {},
   "outputs": [
    {
     "data": {
      "text/plain": [
       "5"
      ]
     },
     "execution_count": 95,
     "metadata": {},
     "output_type": "execute_result"
    }
   ],
   "source": [
    "lis = [[1,2,3,4],'rojo','verde',[True,False,False],['uno','dos','tres']]\n",
    "len(lis)"
   ]
  },
  {
   "cell_type": "markdown",
   "metadata": {},
   "source": [
    "<b style=\"color:#ff7d00;\">16. Tomar la lista del punto anterior y convertir cada elemento en una lista si no lo es</b>"
   ]
  },
  {
   "cell_type": "code",
   "execution_count": 101,
   "metadata": {},
   "outputs": [
    {
     "name": "stdout",
     "output_type": "stream",
     "text": [
      "[[1, 2, 3, 4], ['rojo'], ['verde'], [True, False, False], ['uno', 'dos', 'tres']]\n"
     ]
    }
   ],
   "source": [
    "for i in lis:\n",
    "    if type(i)!=list:\n",
    "        indice=lis.index(i)\n",
    "        lis[indice]=i.split(' ')\n",
    "print(lis)"
   ]
  }
 ],
 "metadata": {
  "interpreter": {
   "hash": "50ddef841eec6287061b05d1ee35241a75b3832ae84d6888477df103f13cab72"
  },
  "kernelspec": {
   "display_name": "Python 3.10.4 64-bit",
   "language": "python",
   "name": "python3"
  },
  "language_info": {
   "codemirror_mode": {
    "name": "ipython",
    "version": 3
   },
   "file_extension": ".py",
   "mimetype": "text/x-python",
   "name": "python",
   "nbconvert_exporter": "python",
   "pygments_lexer": "ipython3",
   "version": "3.10.4"
  },
  "orig_nbformat": 4
 },
 "nbformat": 4,
 "nbformat_minor": 2
}
