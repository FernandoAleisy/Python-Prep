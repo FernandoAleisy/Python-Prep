{
 "cells": [
  {
   "cell_type": "markdown",
   "metadata": {},
   "source": [
    "<h1 align='center' style='color:#ffdd00';>Clases y Programación Orientada a Objetos</h1>"
   ]
  },
  {
   "cell_type": "markdown",
   "metadata": {},
   "source": [
    "<div style=color:#01befe><b>1) Crear la clase vehículo que contenga los atributos:</br>\n",
    "<f style=color:#ff006d>Color<br>\n",
    "Si es moto, auto, camioneta ó camión<br>\n",
    "Cilindrada del motor</div>"
   ]
  },
  {
   "cell_type": "code",
   "execution_count": 1,
   "metadata": {},
   "outputs": [],
   "source": [
    "class Vehiculo:\n",
    "    def __init__(self, color, tipo, cilindraje):\n",
    "        self.color=color\n",
    "        self.tipo=tipo\n",
    "        self.cilindrada=cilindraje"
   ]
  },
  {
   "cell_type": "markdown",
   "metadata": {},
   "source": [
    "<div style=color:#01befe><b>2. A la clase Vehiculo creada en el punto 1, agregar los siguientes métodos:<br>\n",
    "<f style=color:#ff006d>Acelerar<br>\n",
    "Frenar<br>\n",
    "Doblar</div>"
   ]
  },
  {
   "cell_type": "code",
   "execution_count": 2,
   "metadata": {},
   "outputs": [],
   "source": [
    "class Vehiculo:\n",
    "    def __init__(self, color, tipo, cilindraje):\n",
    "        self.color=color\n",
    "        self.tipo=tipo\n",
    "        self.cilindrada=cilindraje\n",
    "        self.velocidad=0\n",
    "        self.direccion=0\n",
    "    \n",
    "    def acelerar(self, aceleración, tiempo):\n",
    "        self.velocidad+=aceleración*tiempo\n",
    "\n",
    "    def frenar(self, frenado):\n",
    "        self.velocidad-=frenado\n",
    "\n",
    "    def doblar(self, grados):\n",
    "        self.direccion+=grados"
   ]
  },
  {
   "cell_type": "markdown",
   "metadata": {},
   "source": [
    "<b style=color:#01befe>3. Instanciar 3 objetos de la clase vehículo y ejecutar sus métodos, probar luego el resultado</b>"
   ]
  },
  {
   "cell_type": "code",
   "execution_count": 3,
   "metadata": {},
   "outputs": [],
   "source": [
    "Vehiculo1=Vehiculo('gris','carro',2400)\n",
    "Vehiculo2=Vehiculo('roja','moto',400)\n",
    "Vehiculo3=Vehiculo('verde','bus',5000)\n",
    "\n",
    "Vehiculo1.acelerar(10,5)\n",
    "Vehiculo2.frenar(5)\n",
    "Vehiculo3.doblar(-50)"
   ]
  },
  {
   "cell_type": "markdown",
   "metadata": {},
   "source": [
    "<b style=color:#01befe>4. Agregar a la clase Vehiculo, un método que muestre su estado, es decir, a que velocidad se encuentra y su dirección. Y otro método que muestre color, tipo y cilindrada</b>"
   ]
  },
  {
   "cell_type": "code",
   "execution_count": 6,
   "metadata": {},
   "outputs": [
    {
     "name": "stdout",
     "output_type": "stream",
     "text": [
      "El/la carro viaja a una velocidad de 0 km/h en la dirección de 0°\n",
      "Es es un o una moto de color roja y con una cilindrada de 400 cc\n"
     ]
    }
   ],
   "source": [
    "class Vehiculo:\n",
    "    def __init__(self, color, tipo, cilindraje):\n",
    "        self.color=color\n",
    "        self.tipo=tipo\n",
    "        self.cilindrada=cilindraje\n",
    "        self.velocidad=0\n",
    "        self.direccion=0\n",
    "    \n",
    "    def acelerar(self, aceleración, tiempo):\n",
    "        self.velocidad+=aceleración*tiempo\n",
    "\n",
    "    def frenar(self, frenado):\n",
    "        self.velocidad-=frenado\n",
    "\n",
    "    def doblar(self, grados):\n",
    "        self.direccion+=grados\n",
    "    \n",
    "    def estado(self):\n",
    "        print('El/la {} viaja a una velocidad de {} km/h en la dirección de {}°'.format(self.tipo,self.velocidad,self.direccion))\n",
    "\n",
    "    def caracteristicas(self):\n",
    "        print('Es es un o una {} de color {} y con una cilindrada de {} cc'.format(self.tipo,self.color,self.cilindrada))\n",
    "\n",
    "\n",
    "Vehiculo1=Vehiculo('gris','carro',2400)\n",
    "Vehiculo2=Vehiculo('roja','moto',400)\n",
    "Vehiculo3=Vehiculo('verde','bus',5000)\n",
    "\n",
    "Vehiculo1.estado()\n",
    "Vehiculo2.caracteristicas()\n",
    "    "
   ]
  },
  {
   "cell_type": "markdown",
   "metadata": {},
   "source": [
    "<div style=color:#01befe><b>5. Crear una clase que permita utilizar las funciones creadas en la práctica del módulo 6<br>\n",
    "<f style=color:#ff006d>Verificar Primo<br>\n",
    "Valor modal<br>\n",
    "Conversión grados<br>\n",
    "Factorial</div>"
   ]
  },
  {
   "cell_type": "code",
   "execution_count": 7,
   "metadata": {},
   "outputs": [],
   "source": [
    "class clase_6:\n",
    "    def __init__(self):\n",
    "        pass\n",
    "\n",
    "    def es_primo(self,x):\n",
    "        valor=True\n",
    "        y=int(x**0.5)\n",
    "        i=2\n",
    "        while i<=y:\n",
    "            if x%i==0:\n",
    "                valor=False\n",
    "                break\n",
    "            else:\n",
    "                i+=1\n",
    "        return(valor)\n",
    "    \n",
    "    def repetido(self,x):\n",
    "        '''Recuerde que esta función requiere como argumento una lista de números'''\n",
    "        if type(x)!=list:\n",
    "            print('error, esta función requiere como argumento una lista')\n",
    "            numero='N/A'\n",
    "            veces='N/A'\n",
    "        else:\n",
    "            numero=''\n",
    "            veces=0\n",
    "            if len(x)==0:\n",
    "                numero='N/A'\n",
    "                veces='N/A'\n",
    "            else:\n",
    "                for i in x:\n",
    "                    if x.count(i)<veces:\n",
    "                        continue\n",
    "                    elif x.count(i)==veces:\n",
    "                        import random\n",
    "                        numero=random.choice([i,numero])\n",
    "                    else:\n",
    "                        numero=i\n",
    "                        veces=x.count(i)\n",
    "        return(numero,veces)\n",
    "\n",
    "    def Conver_temp(self,x,y,z):\n",
    "        '''El primer argumento debe ser un número, el segundo la unidad de origen ('c', 'f', 'k') y el terer elemento es la unidad de destino ('c', 'f', 'k')'''\n",
    "        if y in ['c','f','k']:\n",
    "            if z in ['c','f','k']:\n",
    "                if y==z:\n",
    "                    return(x)\n",
    "                else:\n",
    "                    if y=='c':\n",
    "                        if z=='f':\n",
    "                            x=x*9/5+32\n",
    "                        else:\n",
    "                            x=x+273.15\n",
    "                    elif y=='f':\n",
    "                        if z=='c':\n",
    "                            x=(x-32)*5/9\n",
    "                        else:\n",
    "                            x=(x-32)*5/9+273.15\n",
    "                    else:\n",
    "                        if z=='c':\n",
    "                            x=x-273.15\n",
    "                        else:\n",
    "                            x=(x-273.15)*9/5+32\n",
    "                    return(x)\n",
    "            return('falta la medida de destino')\n",
    "        return('falta la medida de origen y la medida de destino')\n"
   ]
  },
  {
   "cell_type": "markdown",
   "metadata": {},
   "source": [
    "<b style=color:#01befe>6. Probar las funciones incorporadas en la clase del punto 5</b>"
   ]
  },
  {
   "cell_type": "code",
   "execution_count": 8,
   "metadata": {},
   "outputs": [],
   "source": [
    "probar=clase_6()"
   ]
  },
  {
   "cell_type": "code",
   "execution_count": 9,
   "metadata": {},
   "outputs": [
    {
     "name": "stdout",
     "output_type": "stream",
     "text": [
      "True\n",
      "False\n",
      "75.2 °f\n"
     ]
    }
   ],
   "source": [
    "print(probar.es_primo(17))\n",
    "print(probar.es_primo(20))\n",
    "print(probar.Conver_temp(24,'c','f'), '°f')"
   ]
  },
  {
   "cell_type": "markdown",
   "metadata": {},
   "source": [
    "<b style=color:#01befe>7. Es necesario que la clase creada en el punto 5 contenga una lista, sobre la cual se apliquen las funciones incorporadas</b>"
   ]
  },
  {
   "cell_type": "code",
   "execution_count": 24,
   "metadata": {},
   "outputs": [],
   "source": [
    "class clase_6:\n",
    "    def __init__(self,numeros):\n",
    "        self.lista=numeros\n",
    "\n",
    "    def es_primo(self):\n",
    "        vector_respuesta=[]\n",
    "        for x in self.lista:\n",
    "            valor=True\n",
    "            y=int(x**0.5)\n",
    "            i=2\n",
    "            while i<=y:\n",
    "                if x%i==0:\n",
    "                    valor=False\n",
    "                    break\n",
    "                else:\n",
    "                    i+=1\n",
    "            vector_respuesta.append(valor)\n",
    "        return(vector_respuesta)\n",
    "    \n",
    "    def repetido(self):\n",
    "        '''Recuerde que esta función requiere como argumento una lista de números'''\n",
    "        x=self.lista\n",
    "        if type(x)!=list:\n",
    "            print('error, esta función requiere como argumento una lista')\n",
    "            numero='N/A'\n",
    "            veces='N/A'\n",
    "        else:\n",
    "            numero=''\n",
    "            veces=0\n",
    "            if len(x)==0:\n",
    "                numero='N/A'\n",
    "                veces='N/A'\n",
    "            else:\n",
    "                for i in x:\n",
    "                    if x.count(i)<veces:\n",
    "                        continue\n",
    "                    elif x.count(i)==veces:\n",
    "                        import random\n",
    "                        numero=random.choice([i,numero])\n",
    "                    else:\n",
    "                        numero=i\n",
    "                        veces=x.count(i)\n",
    "        return(numero,veces)\n",
    "\n",
    "    def Conver_temp(self,y,z):\n",
    "        '''El primer argumento debe ser un número, el segundo la unidad de origen ('c', 'f', 'k') y el terer elemento es la unidad de destino ('c', 'f', 'k')'''\n",
    "        if y in ['c','f','k']:\n",
    "            if z in ['c','f','k']:\n",
    "                if y==z:\n",
    "                    return(x)\n",
    "                else:\n",
    "                    destino=[]\n",
    "                    for x in self.lista:\n",
    "                        if y=='c':\n",
    "                            if z=='f':\n",
    "                                x=x*9/5+32\n",
    "                            else:\n",
    "                                x=x+273.15\n",
    "                        elif y=='f':\n",
    "                            if z=='c':\n",
    "                                x=(x-32)*5/9\n",
    "                            else:\n",
    "                                x=(x-32)*5/9+273.15\n",
    "                        else:\n",
    "                            if z=='c':\n",
    "                                x=x-273.15\n",
    "                            else:\n",
    "                                x=(x-273.15)*9/5+32\n",
    "                        destino.append(x)\n",
    "                    return(destino)\n",
    "            return('falta la medida de destino')\n",
    "        return('falta la medida de origen y la medida de destino')"
   ]
  },
  {
   "cell_type": "code",
   "execution_count": 56,
   "metadata": {},
   "outputs": [],
   "source": [
    "numeros=[5,10,31,20,30,40,50]\n",
    "probar=clase_6(numeros)"
   ]
  },
  {
   "cell_type": "code",
   "execution_count": 58,
   "metadata": {},
   "outputs": [
    {
     "name": "stdout",
     "output_type": "stream",
     "text": [
      "5  es un número primo\n",
      "10  no es un número primo\n",
      "31  es un número primo\n",
      "20  no es un número primo\n",
      "30  no es un número primo\n",
      "40  no es un número primo\n",
      "50  no es un número primo\n",
      "41.0 °F\n",
      "50.0 °F\n",
      "87.8 °F\n",
      "68.0 °F\n",
      "86.0 °F\n",
      "104.0 °F\n",
      "122.0 °F\n"
     ]
    }
   ],
   "source": [
    "primos=probar.es_primo()\n",
    "\n",
    "\n",
    "for i,j in zip(numeros,primos):\n",
    "    if j==True:\n",
    "        print(i, ' es un número primo')\n",
    "    else:\n",
    "        print(i, ' no es un número primo')\n",
    "\n",
    "\n",
    "lista_temperaturas=probar.Conver_temp('c','f')\n",
    "\n",
    "for i in lista_temperaturas:\n",
    "    print(i, '°F')\n",
    "#[print(i, '°F') for i in lista_temperaturas]"
   ]
  },
  {
   "cell_type": "markdown",
   "metadata": {},
   "source": [
    "<b style=color:#01befe>8. Crear un archivo .py aparte y ubicar allí la clase generada en el punto anterior. Luego realizar la importación del módulo y probar alguna de sus funciones</b>"
   ]
  },
  {
   "cell_type": "code",
   "execution_count": 10,
   "metadata": {},
   "outputs": [],
   "source": [
    "\n",
    "from Clase_6 import *"
   ]
  },
  {
   "cell_type": "code",
   "execution_count": null,
   "metadata": {},
   "outputs": [],
   "source": [
    "print(probar.es_primo(17))\n",
    "print(probar.es_primo(20))\n",
    "print(probar.Conver_temp(24,'c','f'), '°f')"
   ]
  }
 ],
 "metadata": {
  "interpreter": {
   "hash": "50ddef841eec6287061b05d1ee35241a75b3832ae84d6888477df103f13cab72"
  },
  "kernelspec": {
   "display_name": "Python 3.10.4 64-bit",
   "language": "python",
   "name": "python3"
  },
  "language_info": {
   "codemirror_mode": {
    "name": "ipython",
    "version": 3
   },
   "file_extension": ".py",
   "mimetype": "text/x-python",
   "name": "python",
   "nbconvert_exporter": "python",
   "pygments_lexer": "ipython3",
   "version": "3.10.4"
  },
  "orig_nbformat": 4
 },
 "nbformat": 4,
 "nbformat_minor": 2
}
