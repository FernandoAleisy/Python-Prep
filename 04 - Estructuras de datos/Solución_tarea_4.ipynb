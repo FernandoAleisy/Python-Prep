{
 "cells": [
  {
   "cell_type": "markdown",
   "metadata": {},
   "source": [
    "1. Crear una lista que contenga nombres de ciudades del mundo que contenga más de 5 elementos e imprimir por pantalla"
   ]
  },
  {
   "cell_type": "code",
   "execution_count": 1,
   "metadata": {},
   "outputs": [
    {
     "name": "stdout",
     "output_type": "stream",
     "text": [
      "['Villavicencio', 'Bogotá', 'Cali', 'Bucaramanga', 'Medellin', 'Neiva', 'Pasto']\n"
     ]
    }
   ],
   "source": [
    "ciudades=['Villavicencio', 'Bogotá', 'Cali', 'Bucaramanga', 'Medellin', 'Neiva', 'Pasto']\n",
    "print(ciudades)"
   ]
  },
  {
   "cell_type": "markdown",
   "metadata": {},
   "source": [
    "2. Imprimir por pantalla el segundo elemento de la lista"
   ]
  },
  {
   "cell_type": "code",
   "execution_count": 2,
   "metadata": {},
   "outputs": [
    {
     "name": "stdout",
     "output_type": "stream",
     "text": [
      "Bogotá\n"
     ]
    }
   ],
   "source": [
    "print(ciudades[1])"
   ]
  },
  {
   "cell_type": "markdown",
   "metadata": {},
   "source": [
    "3. Imprimir por pantalla del segundo al cuarto elemento"
   ]
  },
  {
   "cell_type": "code",
   "execution_count": 13,
   "metadata": {},
   "outputs": [
    {
     "name": "stdout",
     "output_type": "stream",
     "text": [
      "['Bogotá', 'Cali', 'Yopal']\n"
     ]
    }
   ],
   "source": [
    "print(ciudades[1:4])"
   ]
  },
  {
   "cell_type": "markdown",
   "metadata": {},
   "source": [
    "4. Visualizar el tipo de dato de la lista"
   ]
  },
  {
   "cell_type": "code",
   "execution_count": 4,
   "metadata": {},
   "outputs": [
    {
     "name": "stdout",
     "output_type": "stream",
     "text": [
      "El tipo de la variable ciudades es:  list\n"
     ]
    }
   ],
   "source": [
    "print('El tipo de la variable ciudades es: ', str(type(ciudades))[8:-2])"
   ]
  },
  {
   "cell_type": "markdown",
   "metadata": {},
   "source": [
    "5. Visualizar todos los elementos de la lista a partir del tercero de manera genérica, es decir, sin explicitar la posición del último elemento"
   ]
  },
  {
   "cell_type": "code",
   "execution_count": 5,
   "metadata": {},
   "outputs": [
    {
     "name": "stdout",
     "output_type": "stream",
     "text": [
      "['Cali', 'Bucaramanga', 'Medellin', 'Neiva', 'Pasto']\n"
     ]
    }
   ],
   "source": [
    "print(ciudades[2:])"
   ]
  },
  {
   "cell_type": "markdown",
   "metadata": {},
   "source": [
    "6. Visualizar los primeros 4 elementos de la lista"
   ]
  },
  {
   "cell_type": "code",
   "execution_count": 6,
   "metadata": {},
   "outputs": [
    {
     "name": "stdout",
     "output_type": "stream",
     "text": [
      "['Villavicencio', 'Bogotá', 'Cali', 'Bucaramanga']\n"
     ]
    }
   ],
   "source": [
    "print(ciudades[:4])"
   ]
  },
  {
   "cell_type": "markdown",
   "metadata": {},
   "source": [
    "7. Agregar una ciudad más a la lista que ya exista y otra que no ¿Arroja algún tipo de error?"
   ]
  },
  {
   "cell_type": "code",
   "execution_count": 7,
   "metadata": {},
   "outputs": [
    {
     "name": "stdout",
     "output_type": "stream",
     "text": [
      "Arroja error si trato de insertar las dos ciudades a la vez con el comando .append. Aunque se puede agregar primero una ciudad y luego la otra al usar este comando. Támbien se pueden agragar las ciudades a la vez con el comando .extend\n",
      "['Villavicencio', 'Bogotá', 'Cali', 'Bucaramanga', 'Medellin', 'Neiva', 'Pasto', 'Villavicencio', 'Cartagena']\n"
     ]
    }
   ],
   "source": [
    "print('Arroja error si trato de insertar las dos ciudades a la vez con el comando .append. Aunque se puede agregar primero una ciudad y luego la otra al usar este comando. Támbien se pueden agragar las ciudades a la vez con el comando .extend')\n",
    "\n",
    "#ciudades.append('Villavicencio', 'Cartagena')\n",
    "\n",
    "ciudades.append('Villavicencio')\n",
    "ciudades.append('Cartagena')\n",
    "\n",
    "#ciudades.extend(['Villavicencio', 'Cartagena'])\n",
    "print(ciudades)"
   ]
  },
  {
   "cell_type": "markdown",
   "metadata": {},
   "source": [
    "8. Agregar otra ciudad, pero en la cuarta posición"
   ]
  },
  {
   "cell_type": "code",
   "execution_count": 8,
   "metadata": {},
   "outputs": [
    {
     "name": "stdout",
     "output_type": "stream",
     "text": [
      "['Villavicencio', 'Bogotá', 'Cali', 'Yopal', 'Bucaramanga', 'Medellin', 'Neiva', 'Pasto', 'Villavicencio', 'Cartagena']\n"
     ]
    }
   ],
   "source": [
    "ciudades.insert(3,'Yopal')\n",
    "print(ciudades)"
   ]
  },
  {
   "cell_type": "markdown",
   "metadata": {},
   "source": [
    "9. Concatenar otra lista a la ya creada"
   ]
  },
  {
   "cell_type": "code",
   "execution_count": 9,
   "metadata": {},
   "outputs": [
    {
     "name": "stdout",
     "output_type": "stream",
     "text": [
      "['Villavicencio', 'Bogotá', 'Cali', 'Yopal', 'Bucaramanga', 'Medellin', 'Neiva', 'Pasto', 'Villavicencio', 'Cartagena', 'Leticia', 'Acacias']\n"
     ]
    }
   ],
   "source": [
    "ciudades.extend(['Leticia', 'Acacias'])\n",
    "print(ciudades)"
   ]
  },
  {
   "cell_type": "markdown",
   "metadata": {},
   "source": [
    "10. Encontrar el índice de la ciudad que esta en el punto 7 agregamos duplicada. ¿Se nota alguna particularidad?"
   ]
  },
  {
   "cell_type": "code",
   "execution_count": 10,
   "metadata": {},
   "outputs": [
    {
     "name": "stdout",
     "output_type": "stream",
     "text": [
      "0\n",
      "\n",
      " .index devuelve solo la primera posición de la ciudad duplicada\n"
     ]
    }
   ],
   "source": [
    "indice=ciudades.index('Villavicencio')\n",
    "print(indice)\n",
    "print('\\n .index devuelve solo la primera posición de la ciudad duplicada')"
   ]
  },
  {
   "cell_type": "markdown",
   "metadata": {},
   "source": [
    "11. ¿Qué pasa si se busca un elemento que no existe?"
   ]
  },
  {
   "cell_type": "code",
   "execution_count": null,
   "metadata": {},
   "outputs": [],
   "source": [
    "#indice=ciudades.index('Carro')\n",
    "#print(indice)\n",
    "print('\\n Python devuelve error')"
   ]
  },
  {
   "cell_type": "markdown",
   "metadata": {},
   "source": [
    "12. Eliminar un elemento de la lista"
   ]
  },
  {
   "cell_type": "code",
   "execution_count": 14,
   "metadata": {},
   "outputs": [
    {
     "name": "stdout",
     "output_type": "stream",
     "text": [
      "['Bogotá', 'Cali', 'Yopal', 'Bucaramanga', 'Medellin', 'Neiva', 'Pasto', 'Villavicencio', 'Cartagena', 'Leticia', 'Acacias']\n"
     ]
    }
   ],
   "source": [
    "ciudades.remove('Villavicencio')\n",
    "print(ciudades)"
   ]
  },
  {
   "cell_type": "markdown",
   "metadata": {},
   "source": [
    "13. ¿Qué pasa si el elemento a eliminar no existe?"
   ]
  },
  {
   "cell_type": "code",
   "execution_count": null,
   "metadata": {},
   "outputs": [],
   "source": [
    "#ciudades.remove('Carro')\n",
    "print('\\n Python devuelve error')"
   ]
  },
  {
   "cell_type": "markdown",
   "metadata": {},
   "source": [
    "14. Extraer el úlimo elemento de la lista, guardarlo en una variable e imprimirlo"
   ]
  },
  {
   "cell_type": "code",
   "execution_count": 15,
   "metadata": {},
   "outputs": [
    {
     "name": "stdout",
     "output_type": "stream",
     "text": [
      "Acacias\n",
      "\n",
      "Se denota que la ciudad Acacias ya no está en la lista ciudades:  ['Bogotá', 'Cali', 'Yopal', 'Bucaramanga', 'Medellin', 'Neiva', 'Pasto', 'Villavicencio', 'Cartagena', 'Leticia']\n"
     ]
    }
   ],
   "source": [
    "ciudad=ciudades.pop()\n",
    "print(ciudad)\n",
    "print('\\nSe denota que la ciudad {} ya no está en la lista ciudades: '.format(ciudad), ciudades)"
   ]
  },
  {
   "cell_type": "markdown",
   "metadata": {},
   "source": [
    "15. Mostrar la lista multiplicada por 4"
   ]
  },
  {
   "cell_type": "code",
   "execution_count": 16,
   "metadata": {},
   "outputs": [
    {
     "name": "stdout",
     "output_type": "stream",
     "text": [
      "['Bogotá', 'Cali', 'Yopal', 'Bucaramanga', 'Medellin', 'Neiva', 'Pasto', 'Villavicencio', 'Cartagena', 'Leticia', 'Bogotá', 'Cali', 'Yopal', 'Bucaramanga', 'Medellin', 'Neiva', 'Pasto', 'Villavicencio', 'Cartagena', 'Leticia', 'Bogotá', 'Cali', 'Yopal', 'Bucaramanga', 'Medellin', 'Neiva', 'Pasto', 'Villavicencio', 'Cartagena', 'Leticia', 'Bogotá', 'Cali', 'Yopal', 'Bucaramanga', 'Medellin', 'Neiva', 'Pasto', 'Villavicencio', 'Cartagena', 'Leticia']\n"
     ]
    }
   ],
   "source": [
    "print(ciudades*4)"
   ]
  },
  {
   "cell_type": "markdown",
   "metadata": {},
   "source": [
    "16. Crear una tupla que contenga los números enteros del 1 al 20"
   ]
  },
  {
   "cell_type": "code",
   "execution_count": 17,
   "metadata": {},
   "outputs": [
    {
     "name": "stdout",
     "output_type": "stream",
     "text": [
      "La variable numeros_enteros es del tipo:  tuple\n",
      "(1, 2, 3, 4, 5, 6, 7, 8, 9, 10, 11, 12, 13, 14, 15, 16, 17, 18, 19, 20)\n"
     ]
    }
   ],
   "source": [
    "numeros_enteros=tuple(range(1,21))\n",
    "print('La variable numeros_enteros es del tipo: ', str(type(numeros_enteros))[8:-2])\n",
    "print(numeros_enteros)"
   ]
  },
  {
   "cell_type": "markdown",
   "metadata": {},
   "source": [
    "17. Imprimir desde el índice 10 al 15 de la tupla"
   ]
  },
  {
   "cell_type": "code",
   "execution_count": 18,
   "metadata": {},
   "outputs": [
    {
     "name": "stdout",
     "output_type": "stream",
     "text": [
      "(11, 12, 13, 14, 15, 16)\n"
     ]
    }
   ],
   "source": [
    "print(numeros_enteros[10:16])"
   ]
  },
  {
   "cell_type": "markdown",
   "metadata": {},
   "source": [
    "18. Evaluar si los números 20 y 30 están dentro de la tupla"
   ]
  },
  {
   "cell_type": "code",
   "execution_count": 19,
   "metadata": {},
   "outputs": [
    {
     "name": "stdout",
     "output_type": "stream",
     "text": [
      "15 esta en la tupla\n",
      "30 no esta en la tupla\n"
     ]
    }
   ],
   "source": [
    "def eval_existencia(x,y):\n",
    "    if x in y:\n",
    "        print('{} esta en la tupla'.format(x))\n",
    "    else:\n",
    "        print('{} no esta en la tupla'.format(x))\n",
    "\n",
    "eval_existencia(15,numeros_enteros)\n",
    "eval_existencia(30,numeros_enteros)"
   ]
  },
  {
   "cell_type": "markdown",
   "metadata": {},
   "source": [
    "19. Con la lista creada en el punto 1, validar la existencia del elemento \"París\" y si no existe, agregarlo. Utilizar una variable e informar lo sucedido."
   ]
  },
  {
   "cell_type": "code",
   "execution_count": 20,
   "metadata": {},
   "outputs": [
    {
     "name": "stdout",
     "output_type": "stream",
     "text": [
      "La ciudad {} no existe en la lista ciudades, pero se agrego al final de la lista:  París\n",
      "['Bogotá', 'Cali', 'Yopal', 'Bucaramanga', 'Medellin', 'Neiva', 'Pasto', 'Villavicencio', 'Cartagena', 'Leticia', 'París']\n"
     ]
    }
   ],
   "source": [
    "ciudad='París'\n",
    "if ciudad in ciudades:\n",
    "    print('La ciudad {} existe en la lista ciudades',format(ciudad))\n",
    "else:\n",
    "    ciudades.append(ciudad)\n",
    "    print('La ciudad {} no existe en la lista ciudades, pero se agrego al final de la lista: ',format(ciudad))\n",
    "\n",
    "print(ciudades)"
   ]
  },
  {
   "cell_type": "markdown",
   "metadata": {},
   "source": [
    "20. Mostrar la cantidad de veces que se encuentra un elemento específico dentro de la tupla y de la lista"
   ]
  },
  {
   "cell_type": "code",
   "execution_count": null,
   "metadata": {},
   "outputs": [],
   "source": [
    "a='Bogotá'\n",
    "if ciudades.count(a)==1:\n",
    "    print('La ciudad {} esta '.format(a), ciudades.count(a), ' vez')\n",
    "elif ciudades.count(a)==1:\n",
    "    print('La ciudad {} esta '.format(a), ciudades.count(a), ' veces')\n",
    "else:\n",
    "    print('La ciudad {} no esta'.format(a))\n",
    "\n",
    "b=15\n",
    "if numeros_enteros.count(b)==1:\n",
    "    print('El número {} esta '.format(b), numeros_enteros.count(b), ' vez')\n",
    "elif numeros_enteros.count(b)==1:\n",
    "    print('El número {} esta '.format(b), numeros_enteros.count(b), ' veces')\n",
    "else:\n",
    "    print('El número {} no esta'.format(b))"
   ]
  },
  {
   "cell_type": "markdown",
   "metadata": {},
   "source": [
    "21. Convertir la tupla en una lista"
   ]
  },
  {
   "cell_type": "code",
   "execution_count": 21,
   "metadata": {},
   "outputs": [
    {
     "name": "stdout",
     "output_type": "stream",
     "text": [
      "la variable lista_enteros es del tipo:  list\n"
     ]
    }
   ],
   "source": [
    "lista_enteros=list(numeros_enteros)\n",
    "print('la variable lista_enteros es del tipo: ',str(type(lista_enteros))[8:-2])"
   ]
  },
  {
   "cell_type": "markdown",
   "metadata": {},
   "source": [
    "22. Desempaquetar solo los primeros 3 elementos de la tupla en 3 variables"
   ]
  },
  {
   "cell_type": "code",
   "execution_count": 22,
   "metadata": {},
   "outputs": [
    {
     "name": "stdout",
     "output_type": "stream",
     "text": [
      "n1= 1 , n2= 2 , n3= 3\n"
     ]
    }
   ],
   "source": [
    "#Metodo extenso\n",
    "#n1, n2, n3, n4, n5, n6, n7, n8, n9, n10, n11, n12, n13, n14, n15, n16, n17, n18, n19, n20=numeros_enteros\n",
    "#print('n1=',n1,', n2=',n2,', n3=',n3)\n",
    "\n",
    "#Metodo comprimido:\n",
    "\n",
    "numeros_2=tuple(numeros_enteros[:3])\n",
    "n1, n2, n3=numeros_2\n",
    "print('n1=',n1,', n2=',n2,', n3=',n3)"
   ]
  },
  {
   "cell_type": "markdown",
   "metadata": {},
   "source": [
    "23. Crear un diccionario utilizando la lista crada en el punto 1, asignandole la clave \"ciudad\". Agregar tambien otras claves, como puede ser \"Pais\" y \"Continente\"."
   ]
  },
  {
   "cell_type": "code",
   "execution_count": 23,
   "metadata": {},
   "outputs": [],
   "source": [
    "ciudades.remove('París')\n",
    "mi_diccionario={'ciudades':ciudades, 'País':'Colombia', 'Continente':'América del Sur'}"
   ]
  },
  {
   "cell_type": "markdown",
   "metadata": {},
   "source": [
    "24. Imprimir las claves del diccionario"
   ]
  },
  {
   "cell_type": "code",
   "execution_count": 24,
   "metadata": {},
   "outputs": [
    {
     "name": "stdout",
     "output_type": "stream",
     "text": [
      "dict_keys(['ciudades', 'País', 'Continente'])\n"
     ]
    }
   ],
   "source": [
    "print(mi_diccionario.keys())"
   ]
  },
  {
   "cell_type": "markdown",
   "metadata": {},
   "source": [
    "25. Imprimir las ciudades a través de su clave"
   ]
  },
  {
   "cell_type": "code",
   "execution_count": 25,
   "metadata": {},
   "outputs": [
    {
     "name": "stdout",
     "output_type": "stream",
     "text": [
      "['Bogotá', 'Cali', 'Yopal', 'Bucaramanga', 'Medellin', 'Neiva', 'Pasto', 'Villavicencio', 'Cartagena', 'Leticia'] \n",
      "\n"
     ]
    }
   ],
   "source": [
    "print(mi_diccionario['ciudades'],'\\n')"
   ]
  }
 ],
 "metadata": {
  "interpreter": {
   "hash": "50ddef841eec6287061b05d1ee35241a75b3832ae84d6888477df103f13cab72"
  },
  "kernelspec": {
   "display_name": "Python 3.10.4 64-bit",
   "language": "python",
   "name": "python3"
  },
  "language_info": {
   "codemirror_mode": {
    "name": "ipython",
    "version": 3
   },
   "file_extension": ".py",
   "mimetype": "text/x-python",
   "name": "python",
   "nbconvert_exporter": "python",
   "pygments_lexer": "ipython3",
   "version": "3.10.4"
  },
  "orig_nbformat": 4
 },
 "nbformat": 4,
 "nbformat_minor": 2
}
