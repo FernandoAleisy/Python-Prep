{
 "cells": [
  {
   "cell_type": "markdown",
   "metadata": {},
   "source": [
    "<h1 align=\"center\" style=\"color:#fee440;\">FUNCIONES</h1>"
   ]
  },
  {
   "cell_type": "markdown",
   "metadata": {},
   "source": [
    "<div><b style=\"color:#ff7d00;\">1. Crear una función que reciba un número como parámetro y devuelva <f style=\"color:#8f00ff;\">True</f> si es primo y <f style=\"color:#8f00ff;\">False</f> si no lo es</b></div>"
   ]
  },
  {
   "cell_type": "code",
   "execution_count": 39,
   "metadata": {},
   "outputs": [
    {
     "data": {
      "text/plain": [
       "False"
      ]
     },
     "execution_count": 39,
     "metadata": {},
     "output_type": "execute_result"
    }
   ],
   "source": [
    "def es_primo(x):\n",
    "    valor=True\n",
    "    y=int(x**0.5)\n",
    "    i=2\n",
    "    while i<=y:\n",
    "        if x%i==0:\n",
    "            valor=False\n",
    "            break\n",
    "        else:\n",
    "            i+=1\n",
    "    return(valor)\n",
    "\n",
    "es_primo(15)"
   ]
  },
  {
   "cell_type": "code",
   "execution_count": 80,
   "metadata": {},
   "outputs": [
    {
     "data": {
      "text/plain": [
       "[17, 19, 23, 29, 31, 37, 41, 43, 47, 53, 59, 61, 67, 71, 73, 79, 83, 89]"
      ]
     },
     "execution_count": 80,
     "metadata": {},
     "output_type": "execute_result"
    }
   ],
   "source": [
    "def son_primos(x,y):\n",
    "    lista=[]\n",
    "    for i in range(x,y+1):\n",
    "        z=int(i**0.5)\n",
    "        j=2\n",
    "        valor=True\n",
    "        while j<=z:\n",
    "            if i%j==0:\n",
    "                valor=False\n",
    "                j+=1\n",
    "            else:\n",
    "                j+=1\n",
    "        if valor==True:\n",
    "            lista.append(i)\n",
    "    return(lista)\n",
    "\n",
    "son_primos(15,90)"
   ]
  },
  {
   "cell_type": "code",
   "execution_count": 44,
   "metadata": {},
   "outputs": [
    {
     "name": "stdout",
     "output_type": "stream",
     "text": [
      "None\n"
     ]
    }
   ],
   "source": [
    "def primo(x):\n",
    "    if type(x)==int:\n",
    "        for i in range(2,x+1):\n",
    "            if i==x:\n",
    "                return(True)\n",
    "            elif x%i==0:\n",
    "                return(False)\n",
    "\n",
    "print(primo('i'))"
   ]
  },
  {
   "cell_type": "code",
   "execution_count": 47,
   "metadata": {},
   "outputs": [
    {
     "name": "stdout",
     "output_type": "stream",
     "text": [
      "False\n"
     ]
    }
   ],
   "source": [
    "def primo(x):\n",
    "    if type(x)!=int:\n",
    "        return(None)\n",
    "    else:\n",
    "        primo=True\n",
    "        for i in range(2,x):\n",
    "            if x%i==0:\n",
    "                primo=False\n",
    "        return(primo)\n",
    "\n",
    "\n",
    "print(primo(15))\n"
   ]
  },
  {
   "cell_type": "markdown",
   "metadata": {},
   "source": [
    "<b style=\"color:#ff7d00;\">2. Utilizando la función del punto 1, realizar otra función que reciba de parámetro una lista de números y devuelva sólo aquellos que son primos en otra lista</b>"
   ]
  },
  {
   "cell_type": "code",
   "execution_count": 79,
   "metadata": {},
   "outputs": [
    {
     "name": "stdout",
     "output_type": "stream",
     "text": [
      "[3, 7, 23, 31]\n"
     ]
    }
   ],
   "source": [
    "def lista_primos(lista):\n",
    "    if type(lista)==list:\n",
    "        lista2=[]\n",
    "        for i in lista:\n",
    "            if primo(i)==True:\n",
    "                lista2.append(i)\n",
    "        return(lista2)\n",
    "\n",
    "numeros=[3,7,9,15,23,31,32]\n",
    "print(lista_primos(numeros))"
   ]
  },
  {
   "cell_type": "code",
   "execution_count": 17,
   "metadata": {},
   "outputs": [
    {
     "data": {
      "text/plain": [
       "[3, 7, 23, 31]"
      ]
     },
     "execution_count": 17,
     "metadata": {},
     "output_type": "execute_result"
    }
   ],
   "source": [
    "def primos(y):\n",
    "    if type(y)!=list:\n",
    "        print('error, esta función requiere como argumento una lista')\n",
    "    else:\n",
    "        lista=[]\n",
    "        for x in y:\n",
    "            if es_primo(x):\n",
    "                lista.append(x)\n",
    "            else:\n",
    "                continue\n",
    "    return(lista)\n",
    "\n",
    "numeros=[3,7,9,15,23,31,32]\n",
    "primos(numeros)"
   ]
  },
  {
   "cell_type": "markdown",
   "metadata": {},
   "source": [
    "<div><b style=\"color:#ff7d00;\">3. Crear una función que al recibir una lista de números, devuelva el que más se repite y cuántas veces lo hace. Si hay más de un \"más repetido\", que devuelva cualquiera</b></div>"
   ]
  },
  {
   "cell_type": "code",
   "execution_count": 17,
   "metadata": {},
   "outputs": [
    {
     "name": "stdout",
     "output_type": "stream",
     "text": [
      "El 3 se repite 4 veces\n"
     ]
    }
   ],
   "source": [
    "def mas_repetido(lista):\n",
    "    if type(lista)==list:\n",
    "        numero=0\n",
    "        repeticiones=0\n",
    "        for i in lista:\n",
    "            if lista.count(i)>=repeticiones:\n",
    "                repeticiones=lista.count(i)\n",
    "                numero=i\n",
    "        return(numero,repeticiones)\n",
    "\n",
    "lista=[3,3,9,15,9,31,9,25,3,9,3]\n",
    "x,y=mas_repetido(lista)\n",
    "print(f'El {x} se repite {y} veces')"
   ]
  },
  {
   "cell_type": "code",
   "execution_count": 58,
   "metadata": {},
   "outputs": [
    {
     "name": "stdout",
     "output_type": "stream",
     "text": [
      "El número que más se repite es 9 y lo hace 3 veces\n"
     ]
    }
   ],
   "source": [
    "def repetido(x):\n",
    "    '''Recuerde que esta función requiere como argumento una lista de números'''\n",
    "    if type(x)==list:\n",
    "        numero=0\n",
    "        veces=0\n",
    "        for i in x:\n",
    "            if x.count(i)==veces:\n",
    "                import random\n",
    "                numero=random.choice([i,numero])\n",
    "            elif x.count(i)>veces:\n",
    "                numero=i\n",
    "                veces=x.count(i)\n",
    "        return(numero,veces)\n",
    "    else:\n",
    "        return (None,None)\n",
    "\n",
    "numeros=[3,3,9,15,9,31,9,25,3]\n",
    "lista=[]\n",
    "numero,veces=repetido(numeros)\n",
    "#print(repetido('m'))\n",
    "print(f'El número que más se repite es {numero} y lo hace {veces} veces')\n",
    "    "
   ]
  },
  {
   "cell_type": "markdown",
   "metadata": {},
   "source": [
    "<div><b style=\"color:#ff7d00;\">4. A la función del punto 3, agregar un parámetro más, que permita elegir si se requiere el menor o el mayor de los mas repetidos.</b></div>"
   ]
  },
  {
   "cell_type": "code",
   "execution_count": 81,
   "metadata": {},
   "outputs": [
    {
     "name": "stdout",
     "output_type": "stream",
     "text": [
      "(9, 3)\n",
      "(3, 3)\n"
     ]
    }
   ],
   "source": [
    "def mayor(lista, mayor=True):\n",
    "    \"\"\"El primer argumento debe ser una lista y el segundo un boleano (True o False)\"\"\"\n",
    "    pareja1=repetido(lista)\n",
    "    for i in lista:\n",
    "        if i==pareja1[0]:\n",
    "            lista.remove(i)\n",
    "    pareja2=repetido(lista)\n",
    "    if mayor==True:\n",
    "        if pareja1[0]>pareja2[0]:\n",
    "            return pareja1\n",
    "        else:\n",
    "            return pareja2\n",
    "    elif mayor==False:\n",
    "        if pareja1[0]>pareja2[0]:\n",
    "            return pareja2\n",
    "        else:\n",
    "            return pareja1\n",
    "\n",
    "numeros=[3,3,9,15,9,31,9,25,3]\n",
    "print(mayor(numeros, True))\n",
    "print(mayor(numeros, False))"
   ]
  },
  {
   "cell_type": "code",
   "execution_count": 3,
   "metadata": {},
   "outputs": [
    {
     "name": "stdout",
     "output_type": "stream",
     "text": [
      "El número que más se repite es 3 y lo hace 4 veces\n",
      "El segundo número que más se repite es 9 y lo hace 3 veces\n"
     ]
    }
   ],
   "source": [
    "def mayor_repetidos(x,y):\n",
    "    \"\"\"El primer argumento debe ser una lista y el segundo un boleano (True o False)\"\"\"\n",
    "    numero,veces=repetido(x)\n",
    "    if y==False:\n",
    "        for i in range(1,veces+1):\n",
    "            x.remove(numero)\n",
    "    numero,veces=repetido(x)\n",
    "    return(numero,veces)\n",
    "\n",
    "numeros=[3,3,9,15,9,31,9,25,3,3]\n",
    "numero,veces=mayor_repetidos(numeros,True)\n",
    "print('El número que más se repite es {} y lo hace {} veces'.format(numero,veces))\n",
    "numero,veces=mayor_repetidos(numeros,False)\n",
    "print('El segundo número que más se repite es {} y lo hace {} veces'.format(numero,veces))"
   ]
  },
  {
   "cell_type": "code",
   "execution_count": 5,
   "metadata": {},
   "outputs": [
    {
     "name": "stdout",
     "output_type": "stream",
     "text": [
      "(1, 3)\n",
      "(6, 3)\n"
     ]
    }
   ],
   "source": [
    "def max_repetidos(lis, menor=True):\n",
    "    max=0\n",
    "    num_max=0\n",
    "    if (menor):\n",
    "        lis.sort()\n",
    "    else:\n",
    "        lis.sort(reverse=True)\n",
    "    for num in lis:\n",
    "        num_repetidos=lis.count(num)\n",
    "        if num_repetidos> max:\n",
    "            max= num_repetidos\n",
    "            num_max=num\n",
    "    return num_max, max\n",
    "\n",
    "\n",
    "lista=[1,4,6,1,2,6,3,7,8,6,1,4,4]\n",
    "print(max_repetidos(lista, True))\n",
    "print(max_repetidos(lista, False))"
   ]
  },
  {
   "cell_type": "markdown",
   "metadata": {},
   "source": [
    "</div><b style=\"color:#ff7d00;\">5. Crear una función que convierta entre grados Celsius, Farenheit y Kelvin</br>\n",
    "<f style=\"color:#ff006d;\">Fórmula 1\t: °C×9/5+ 32 = °F<br>\n",
    "Fórmula 2\t: °C + 273.15 = K</f><br>\n",
    "Debe recibir 3 parámetros: el valor, la medida de orígen y la medida de destino</b></div>"
   ]
  },
  {
   "cell_type": "code",
   "execution_count": 96,
   "metadata": {},
   "outputs": [
    {
     "name": "stdout",
     "output_type": "stream",
     "text": [
      "None\n",
      "0.0\n"
     ]
    }
   ],
   "source": [
    "def conversion(numero, origen, destino):\n",
    "    if origen in ['c','f','k']:\n",
    "        if destino in ['c','f','k']:\n",
    "            if type(numero) in [float,int]:\n",
    "                if origen=='c':\n",
    "                    if destino=='f':\n",
    "                        numero=numero*9/5+32\n",
    "                    elif destino=='k':\n",
    "                        numero=numero+273.15\n",
    "                if origen=='f':\n",
    "                    if destino=='c':\n",
    "                        numero=(numero-32)*5/9\n",
    "                    elif destino=='k':\n",
    "                        numero=(numero-32)*5/9+273.15\n",
    "                if origen=='k':\n",
    "                    if destino=='c':\n",
    "                        numero=numero-273.15\n",
    "                    elif destino=='f':\n",
    "                        numero=(numero-273.15)*9/5+32\n",
    "                return numero\n",
    "            else:\n",
    "                return None\n",
    "        else:\n",
    "            return None\n",
    "    else:\n",
    "        return None\n",
    "        \n",
    "            \n",
    "print(conversion('a','c','f'))\n",
    "print(conversion(-273.15,'c','k'))\n"
   ]
  },
  {
   "cell_type": "code",
   "execution_count": 116,
   "metadata": {},
   "outputs": [
    {
     "name": "stdout",
     "output_type": "stream",
     "text": [
      "0 °C= 32.0 °F\n",
      "0 °C= 273.15 K\n"
     ]
    }
   ],
   "source": [
    "def Conver_temp(x,y,z):\n",
    "    '''El primer argumento debe ser un número, el segundo la unidad de origen ('c', 'f', 'k') y el terer elemento es la unidad de destino ('c', 'f', 'k')'''\n",
    "    if y in ['c','f','k']:\n",
    "        if z in ['c','f','k']:\n",
    "            if y==z:\n",
    "                return(x)\n",
    "            else:\n",
    "                if y=='c':\n",
    "                    if z=='f':\n",
    "                        x=x*9/5+32\n",
    "                    else:\n",
    "                        x=x+273.15\n",
    "                elif y=='f':\n",
    "                    if z=='c':\n",
    "                        x=(x-32)*5/9\n",
    "                    else:\n",
    "                        x=(x-32)*5/9+273.15\n",
    "                else:\n",
    "                    if z=='c':\n",
    "                        x=x-273.15\n",
    "                    else:\n",
    "                        x=(x-273.15)*9/5+32\n",
    "                return(x)\n",
    "        return('falta la medida de destino')\n",
    "    return('falta la medida de origen y la medida de destino')\n",
    "\n",
    "c=0\n",
    "print(c,'°C=',Conver_temp(c,'c','f'),'°F')\n",
    "print(c,'°C=',Conver_temp(c,'c','k'),'K')"
   ]
  },
  {
   "cell_type": "markdown",
   "metadata": {},
   "source": [
    "<b style=\"color:#ff7d00;\">6. Iterando una lista con los tres valores posibles de temperatura que recibe la función del punto 5, hacer un print para cada combinación de los mismos:</b>"
   ]
  },
  {
   "cell_type": "code",
   "execution_count": 121,
   "metadata": {},
   "outputs": [
    {
     "name": "stdout",
     "output_type": "stream",
     "text": [
      "0 °f= -17.77777777777778 ° C\n",
      "0 °k= -273.15 ° C\n",
      "24 °f= -4.444444444444445 ° C\n",
      "24 °k= -249.14999999999998 ° C\n",
      "100 °f= 37.77777777777778 ° C\n",
      "100 °k= -173.14999999999998 ° C\n"
     ]
    }
   ],
   "source": [
    "Temperauras_c=[0,24,100]\n",
    "for i in Temperauras_c:\n",
    "    for j in ['f','k']:\n",
    "        print(i,'°{}='.format(j),Conver_temp(i,j,'c'),'°','C')"
   ]
  },
  {
   "cell_type": "markdown",
   "metadata": {},
   "source": [
    "<b style=\"color:#ff7d00;\">7. Armar una función que devuelva el <f style=\"color:#8f00ff;\">factorial</f> de un número. Tener en cuenta que el usuario puede equivocarse y enviar de parámetro un número no entero o negativo</b>"
   ]
  },
  {
   "cell_type": "code",
   "execution_count": 2,
   "metadata": {},
   "outputs": [
    {
     "data": {
      "text/plain": [
       "1"
      ]
     },
     "execution_count": 2,
     "metadata": {},
     "output_type": "execute_result"
    }
   ],
   "source": [
    "def factoria(x):\n",
    "    '''Debes ingresar un número entero no negativo'''\n",
    "    y=1\n",
    "    if x<0 or type(x)==float:\n",
    "        return('N/A')\n",
    "    elif x in [0,1]:\n",
    "        return(1)\n",
    "    else:\n",
    "        for i in range(1,x+1):\n",
    "            y=y*i\n",
    "        return(y)\n",
    "\n",
    "factoria(1)"
   ]
  }
 ],
 "metadata": {
  "interpreter": {
   "hash": "50ddef841eec6287061b05d1ee35241a75b3832ae84d6888477df103f13cab72"
  },
  "kernelspec": {
   "display_name": "Python 3.10.4 64-bit",
   "language": "python",
   "name": "python3"
  },
  "language_info": {
   "codemirror_mode": {
    "name": "ipython",
    "version": 3
   },
   "file_extension": ".py",
   "mimetype": "text/x-python",
   "name": "python",
   "nbconvert_exporter": "python",
   "pygments_lexer": "ipython3",
   "version": "3.10.4"
  },
  "orig_nbformat": 4
 },
 "nbformat": 4,
 "nbformat_minor": 2
}
